{
  "nbformat": 4,
  "nbformat_minor": 5,
  "metadata": {
    "kernelspec": {
      "display_name": "Python 3",
      "language": "python",
      "name": "python3"
    },
    "language_info": {
      "codemirror_mode": {
        "name": "ipython",
        "version": 3
      },
      "file_extension": ".py",
      "mimetype": "text/x-python",
      "name": "python",
      "nbconvert_exporter": "python",
      "pygments_lexer": "ipython3",
      "version": "3.8.8"
    },
    "colab": {
      "provenance": []
    }
  },
  "cells": [
    {
      "cell_type": "markdown",
      "metadata": {
        "id": "6yDxo9u0d9Na"
      },
      "source": [
        "# Project Business Statistics: E-news Express\n"
      ],
      "id": "6yDxo9u0d9Na"
    },
    {
      "cell_type": "markdown",
      "metadata": {
        "id": "SrLd-ICEmPSD"
      },
      "source": [
        "## Define Problem Statement and Objectives"
      ],
      "id": "SrLd-ICEmPSD"
    },
    {
      "cell_type": "markdown",
      "source": [
        "##Business Context\n",
        "The advent of e-news, or electronic news, portals has offered us a great opportunity to quickly get updates on the day-to-day events occurring globally. The information on these portals is retrieved electronically from online databases, processed using a variety of software, and then transmitted to the users. There are multiple advantages of transmitting new electronically, like faster access to the content and the ability to utilize different technologies such as audio, graphics, video, and other interactive elements that are either not being used or aren’t common yet in traditional newspapers.\n",
        "\n",
        "E-news Express, an online news portal, aims to expand its business by acquiring new subscribers. With every visitor to the website taking certain actions based on their interest, the company plans to analyze these actions to understand user interests and determine how to drive better engagement. The executives at E-news Express are of the opinion that there has been a decline in new monthly subscribers compared to the past year because the current webpage is not designed well enough in terms of the outline & recommended content to keep customers engaged long enough to make a decision to subscribe.\n",
        "\n",
        "[Companies often analyze user responses to two variants of a product to decide which of the two variants is more effective. This experimental technique, known as A/B testing, is used to determine whether a new feature attracts users based on a chosen metric.]\n",
        "\n",
        "Objective\n",
        "The design team of the company has researched and created a new landing page that has a new outline & more relevant content shown compared to the old page. In order to test the effectiveness of the new landing page in gathering new subscribers, the Data Science team conducted an experiment by randomly selecting 100 users and dividing them equally into two groups. The existing landing page was served to the first group (control group) and the new landing page to the second group (treatment group). Data regarding the interaction of users in both groups with the two versions of the landing page was collected. Being a data scientist in E-news Express, you have been asked to explore the data and perform a statistical analysis (at a significance level of 5%) to determine the effectiveness of the new landing page in gathering new subscribers for the news portal by answering the following questions:\n",
        "\n",
        "Do the users spend more time on the new landing page than on the existing landing page?\n",
        "\n",
        "Is the conversion rate (the proportion of users who visit the landing page and get converted) for the new page greater than the conversion rate for the old page?\n",
        "\n",
        "Does the converted status depend on the preferred language? [Hint: Create a contingency table using the pandas.crosstab() function]\n",
        "\n",
        "Is the time spent on the new page the same for the different language users?\n",
        "\n",
        "Data Dictionary\n",
        "The data contains information regarding the interaction of users in both groups with the two versions of the landing page.\n",
        "\n",
        "user_id - Unique user ID of the person visiting the website\n",
        "\n",
        "group - Whether the user belongs to the first group (control) or the second group (treatment)\n",
        "\n",
        "landing_page - Whether the landing page is new or old\n",
        "\n",
        "time_spent_on_the_page - Time (in minutes) spent by the user on the landing page\n",
        "\n",
        "converted - Whether the user gets converted to a subscriber of the news portal or not\n",
        "\n",
        "language_preferred - Language chosen by the user to view the landing page"
      ],
      "metadata": {
        "id": "oyN2rGnuX0tt"
      },
      "id": "oyN2rGnuX0tt"
    },
    {
      "cell_type": "markdown",
      "metadata": {
        "id": "a6a3d218"
      },
      "source": [
        "## Import all the necessary libraries"
      ],
      "id": "a6a3d218"
    },
    {
      "cell_type": "code",
      "source": [
        "# Installing the libraries with the specified version.\n",
        "!pip install numpy==1.25.2 pandas==1.5.3 matplotlib==3.7.1 seaborn==0.13.1 scipy==1.11.4 -q --user"
      ],
      "metadata": {
        "id": "r_5zUIePGS-1"
      },
      "id": "r_5zUIePGS-1",
      "execution_count": null,
      "outputs": []
    },
    {
      "cell_type": "markdown",
      "source": [
        "**Note**: *After running the above cell, kindly restart the notebook kernel and run all cells sequentially from the start again.*"
      ],
      "metadata": {
        "id": "DAaycw-QP-j9"
      },
      "id": "DAaycw-QP-j9"
    },
    {
      "cell_type": "code",
      "metadata": {
        "id": "658c5dec"
      },
      "source": [
        "# import all relevant libraries for the analysis\n",
        "import pandas as pd\n",
        "import numpy as np\n",
        "import matplotlib.pyplot as plt\n",
        "import seaborn as sns\n",
        "#%matplotlib inline\n",
        "\n",
        "import scipy.stats as stats"
      ],
      "id": "658c5dec",
      "execution_count": 1,
      "outputs": []
    },
    {
      "cell_type": "markdown",
      "metadata": {
        "id": "6970dd99"
      },
      "source": [
        "## Reading the Data into a DataFrame"
      ],
      "id": "6970dd99"
    },
    {
      "cell_type": "code",
      "metadata": {
        "id": "d3b95640"
      },
      "source": [
        "data = pd.read_csv('/content/abtest.csv') # Reading the data into the dataframe\n",
        "df = data.copy() # creating a copy of the dataset"
      ],
      "id": "d3b95640",
      "execution_count": 3,
      "outputs": []
    },
    {
      "cell_type": "markdown",
      "source": [
        "## Performing sanity checks on the dataset"
      ],
      "metadata": {
        "id": "pwKWnv7ZTjKK"
      },
      "id": "pwKWnv7ZTjKK"
    },
    {
      "cell_type": "code",
      "source": [
        "# Checking the top 5 rows of the dataset\n",
        "df.head()"
      ],
      "metadata": {
        "colab": {
          "base_uri": "https://localhost:8080/",
          "height": 206
        },
        "id": "-jh0IOuUTsGe",
        "outputId": "7ecce569-17d4-4b50-e709-145ebd88a82d"
      },
      "id": "-jh0IOuUTsGe",
      "execution_count": null,
      "outputs": [
        {
          "output_type": "execute_result",
          "data": {
            "text/plain": [
              "   user_id      group landing_page  time_spent_on_the_page converted  \\\n",
              "0   546592    control          old                    3.48        no   \n",
              "1   546468  treatment          new                    7.13       yes   \n",
              "2   546462  treatment          new                    4.40        no   \n",
              "3   546567    control          old                    3.02        no   \n",
              "4   546459  treatment          new                    4.75       yes   \n",
              "\n",
              "  language_preferred  \n",
              "0            Spanish  \n",
              "1            English  \n",
              "2            Spanish  \n",
              "3             French  \n",
              "4            Spanish  "
            ],
            "text/html": [
              "\n",
              "  <div id=\"df-7b579c31-4c49-4942-ba67-95b024505572\" class=\"colab-df-container\">\n",
              "    <div>\n",
              "<style scoped>\n",
              "    .dataframe tbody tr th:only-of-type {\n",
              "        vertical-align: middle;\n",
              "    }\n",
              "\n",
              "    .dataframe tbody tr th {\n",
              "        vertical-align: top;\n",
              "    }\n",
              "\n",
              "    .dataframe thead th {\n",
              "        text-align: right;\n",
              "    }\n",
              "</style>\n",
              "<table border=\"1\" class=\"dataframe\">\n",
              "  <thead>\n",
              "    <tr style=\"text-align: right;\">\n",
              "      <th></th>\n",
              "      <th>user_id</th>\n",
              "      <th>group</th>\n",
              "      <th>landing_page</th>\n",
              "      <th>time_spent_on_the_page</th>\n",
              "      <th>converted</th>\n",
              "      <th>language_preferred</th>\n",
              "    </tr>\n",
              "  </thead>\n",
              "  <tbody>\n",
              "    <tr>\n",
              "      <th>0</th>\n",
              "      <td>546592</td>\n",
              "      <td>control</td>\n",
              "      <td>old</td>\n",
              "      <td>3.48</td>\n",
              "      <td>no</td>\n",
              "      <td>Spanish</td>\n",
              "    </tr>\n",
              "    <tr>\n",
              "      <th>1</th>\n",
              "      <td>546468</td>\n",
              "      <td>treatment</td>\n",
              "      <td>new</td>\n",
              "      <td>7.13</td>\n",
              "      <td>yes</td>\n",
              "      <td>English</td>\n",
              "    </tr>\n",
              "    <tr>\n",
              "      <th>2</th>\n",
              "      <td>546462</td>\n",
              "      <td>treatment</td>\n",
              "      <td>new</td>\n",
              "      <td>4.40</td>\n",
              "      <td>no</td>\n",
              "      <td>Spanish</td>\n",
              "    </tr>\n",
              "    <tr>\n",
              "      <th>3</th>\n",
              "      <td>546567</td>\n",
              "      <td>control</td>\n",
              "      <td>old</td>\n",
              "      <td>3.02</td>\n",
              "      <td>no</td>\n",
              "      <td>French</td>\n",
              "    </tr>\n",
              "    <tr>\n",
              "      <th>4</th>\n",
              "      <td>546459</td>\n",
              "      <td>treatment</td>\n",
              "      <td>new</td>\n",
              "      <td>4.75</td>\n",
              "      <td>yes</td>\n",
              "      <td>Spanish</td>\n",
              "    </tr>\n",
              "  </tbody>\n",
              "</table>\n",
              "</div>\n",
              "    <div class=\"colab-df-buttons\">\n",
              "\n",
              "  <div class=\"colab-df-container\">\n",
              "    <button class=\"colab-df-convert\" onclick=\"convertToInteractive('df-7b579c31-4c49-4942-ba67-95b024505572')\"\n",
              "            title=\"Convert this dataframe to an interactive table.\"\n",
              "            style=\"display:none;\">\n",
              "\n",
              "  <svg xmlns=\"http://www.w3.org/2000/svg\" height=\"24px\" viewBox=\"0 -960 960 960\">\n",
              "    <path d=\"M120-120v-720h720v720H120Zm60-500h600v-160H180v160Zm220 220h160v-160H400v160Zm0 220h160v-160H400v160ZM180-400h160v-160H180v160Zm440 0h160v-160H620v160ZM180-180h160v-160H180v160Zm440 0h160v-160H620v160Z\"/>\n",
              "  </svg>\n",
              "    </button>\n",
              "\n",
              "  <style>\n",
              "    .colab-df-container {\n",
              "      display:flex;\n",
              "      gap: 12px;\n",
              "    }\n",
              "\n",
              "    .colab-df-convert {\n",
              "      background-color: #E8F0FE;\n",
              "      border: none;\n",
              "      border-radius: 50%;\n",
              "      cursor: pointer;\n",
              "      display: none;\n",
              "      fill: #1967D2;\n",
              "      height: 32px;\n",
              "      padding: 0 0 0 0;\n",
              "      width: 32px;\n",
              "    }\n",
              "\n",
              "    .colab-df-convert:hover {\n",
              "      background-color: #E2EBFA;\n",
              "      box-shadow: 0px 1px 2px rgba(60, 64, 67, 0.3), 0px 1px 3px 1px rgba(60, 64, 67, 0.15);\n",
              "      fill: #174EA6;\n",
              "    }\n",
              "\n",
              "    .colab-df-buttons div {\n",
              "      margin-bottom: 4px;\n",
              "    }\n",
              "\n",
              "    [theme=dark] .colab-df-convert {\n",
              "      background-color: #3B4455;\n",
              "      fill: #D2E3FC;\n",
              "    }\n",
              "\n",
              "    [theme=dark] .colab-df-convert:hover {\n",
              "      background-color: #434B5C;\n",
              "      box-shadow: 0px 1px 3px 1px rgba(0, 0, 0, 0.15);\n",
              "      filter: drop-shadow(0px 1px 2px rgba(0, 0, 0, 0.3));\n",
              "      fill: #FFFFFF;\n",
              "    }\n",
              "  </style>\n",
              "\n",
              "    <script>\n",
              "      const buttonEl =\n",
              "        document.querySelector('#df-7b579c31-4c49-4942-ba67-95b024505572 button.colab-df-convert');\n",
              "      buttonEl.style.display =\n",
              "        google.colab.kernel.accessAllowed ? 'block' : 'none';\n",
              "\n",
              "      async function convertToInteractive(key) {\n",
              "        const element = document.querySelector('#df-7b579c31-4c49-4942-ba67-95b024505572');\n",
              "        const dataTable =\n",
              "          await google.colab.kernel.invokeFunction('convertToInteractive',\n",
              "                                                    [key], {});\n",
              "        if (!dataTable) return;\n",
              "\n",
              "        const docLinkHtml = 'Like what you see? Visit the ' +\n",
              "          '<a target=\"_blank\" href=https://colab.research.google.com/notebooks/data_table.ipynb>data table notebook</a>'\n",
              "          + ' to learn more about interactive tables.';\n",
              "        element.innerHTML = '';\n",
              "        dataTable['output_type'] = 'display_data';\n",
              "        await google.colab.output.renderOutput(dataTable, element);\n",
              "        const docLink = document.createElement('div');\n",
              "        docLink.innerHTML = docLinkHtml;\n",
              "        element.appendChild(docLink);\n",
              "      }\n",
              "    </script>\n",
              "  </div>\n",
              "\n",
              "\n",
              "<div id=\"df-6d622e46-247a-406c-93cd-4eadc01f9763\">\n",
              "  <button class=\"colab-df-quickchart\" onclick=\"quickchart('df-6d622e46-247a-406c-93cd-4eadc01f9763')\"\n",
              "            title=\"Suggest charts\"\n",
              "            style=\"display:none;\">\n",
              "\n",
              "<svg xmlns=\"http://www.w3.org/2000/svg\" height=\"24px\"viewBox=\"0 0 24 24\"\n",
              "     width=\"24px\">\n",
              "    <g>\n",
              "        <path d=\"M19 3H5c-1.1 0-2 .9-2 2v14c0 1.1.9 2 2 2h14c1.1 0 2-.9 2-2V5c0-1.1-.9-2-2-2zM9 17H7v-7h2v7zm4 0h-2V7h2v10zm4 0h-2v-4h2v4z\"/>\n",
              "    </g>\n",
              "</svg>\n",
              "  </button>\n",
              "\n",
              "<style>\n",
              "  .colab-df-quickchart {\n",
              "      --bg-color: #E8F0FE;\n",
              "      --fill-color: #1967D2;\n",
              "      --hover-bg-color: #E2EBFA;\n",
              "      --hover-fill-color: #174EA6;\n",
              "      --disabled-fill-color: #AAA;\n",
              "      --disabled-bg-color: #DDD;\n",
              "  }\n",
              "\n",
              "  [theme=dark] .colab-df-quickchart {\n",
              "      --bg-color: #3B4455;\n",
              "      --fill-color: #D2E3FC;\n",
              "      --hover-bg-color: #434B5C;\n",
              "      --hover-fill-color: #FFFFFF;\n",
              "      --disabled-bg-color: #3B4455;\n",
              "      --disabled-fill-color: #666;\n",
              "  }\n",
              "\n",
              "  .colab-df-quickchart {\n",
              "    background-color: var(--bg-color);\n",
              "    border: none;\n",
              "    border-radius: 50%;\n",
              "    cursor: pointer;\n",
              "    display: none;\n",
              "    fill: var(--fill-color);\n",
              "    height: 32px;\n",
              "    padding: 0;\n",
              "    width: 32px;\n",
              "  }\n",
              "\n",
              "  .colab-df-quickchart:hover {\n",
              "    background-color: var(--hover-bg-color);\n",
              "    box-shadow: 0 1px 2px rgba(60, 64, 67, 0.3), 0 1px 3px 1px rgba(60, 64, 67, 0.15);\n",
              "    fill: var(--button-hover-fill-color);\n",
              "  }\n",
              "\n",
              "  .colab-df-quickchart-complete:disabled,\n",
              "  .colab-df-quickchart-complete:disabled:hover {\n",
              "    background-color: var(--disabled-bg-color);\n",
              "    fill: var(--disabled-fill-color);\n",
              "    box-shadow: none;\n",
              "  }\n",
              "\n",
              "  .colab-df-spinner {\n",
              "    border: 2px solid var(--fill-color);\n",
              "    border-color: transparent;\n",
              "    border-bottom-color: var(--fill-color);\n",
              "    animation:\n",
              "      spin 1s steps(1) infinite;\n",
              "  }\n",
              "\n",
              "  @keyframes spin {\n",
              "    0% {\n",
              "      border-color: transparent;\n",
              "      border-bottom-color: var(--fill-color);\n",
              "      border-left-color: var(--fill-color);\n",
              "    }\n",
              "    20% {\n",
              "      border-color: transparent;\n",
              "      border-left-color: var(--fill-color);\n",
              "      border-top-color: var(--fill-color);\n",
              "    }\n",
              "    30% {\n",
              "      border-color: transparent;\n",
              "      border-left-color: var(--fill-color);\n",
              "      border-top-color: var(--fill-color);\n",
              "      border-right-color: var(--fill-color);\n",
              "    }\n",
              "    40% {\n",
              "      border-color: transparent;\n",
              "      border-right-color: var(--fill-color);\n",
              "      border-top-color: var(--fill-color);\n",
              "    }\n",
              "    60% {\n",
              "      border-color: transparent;\n",
              "      border-right-color: var(--fill-color);\n",
              "    }\n",
              "    80% {\n",
              "      border-color: transparent;\n",
              "      border-right-color: var(--fill-color);\n",
              "      border-bottom-color: var(--fill-color);\n",
              "    }\n",
              "    90% {\n",
              "      border-color: transparent;\n",
              "      border-bottom-color: var(--fill-color);\n",
              "    }\n",
              "  }\n",
              "</style>\n",
              "\n",
              "  <script>\n",
              "    async function quickchart(key) {\n",
              "      const quickchartButtonEl =\n",
              "        document.querySelector('#' + key + ' button');\n",
              "      quickchartButtonEl.disabled = true;  // To prevent multiple clicks.\n",
              "      quickchartButtonEl.classList.add('colab-df-spinner');\n",
              "      try {\n",
              "        const charts = await google.colab.kernel.invokeFunction(\n",
              "            'suggestCharts', [key], {});\n",
              "      } catch (error) {\n",
              "        console.error('Error during call to suggestCharts:', error);\n",
              "      }\n",
              "      quickchartButtonEl.classList.remove('colab-df-spinner');\n",
              "      quickchartButtonEl.classList.add('colab-df-quickchart-complete');\n",
              "    }\n",
              "    (() => {\n",
              "      let quickchartButtonEl =\n",
              "        document.querySelector('#df-6d622e46-247a-406c-93cd-4eadc01f9763 button');\n",
              "      quickchartButtonEl.style.display =\n",
              "        google.colab.kernel.accessAllowed ? 'block' : 'none';\n",
              "    })();\n",
              "  </script>\n",
              "</div>\n",
              "\n",
              "    </div>\n",
              "  </div>\n"
            ],
            "application/vnd.google.colaboratory.intrinsic+json": {
              "type": "dataframe",
              "variable_name": "df",
              "summary": "{\n  \"name\": \"df\",\n  \"rows\": 100,\n  \"fields\": [\n    {\n      \"column\": \"user_id\",\n      \"properties\": {\n        \"dtype\": \"number\",\n        \"std\": 52,\n        \"min\": 546443,\n        \"max\": 546592,\n        \"num_unique_values\": 100,\n        \"samples\": [\n          546580,\n          546576,\n          546568\n        ],\n        \"semantic_type\": \"\",\n        \"description\": \"\"\n      }\n    },\n    {\n      \"column\": \"group\",\n      \"properties\": {\n        \"dtype\": \"category\",\n        \"num_unique_values\": 2,\n        \"samples\": [\n          \"treatment\",\n          \"control\"\n        ],\n        \"semantic_type\": \"\",\n        \"description\": \"\"\n      }\n    },\n    {\n      \"column\": \"landing_page\",\n      \"properties\": {\n        \"dtype\": \"category\",\n        \"num_unique_values\": 2,\n        \"samples\": [\n          \"new\",\n          \"old\"\n        ],\n        \"semantic_type\": \"\",\n        \"description\": \"\"\n      }\n    },\n    {\n      \"column\": \"time_spent_on_the_page\",\n      \"properties\": {\n        \"dtype\": \"number\",\n        \"std\": 2.378166078933492,\n        \"min\": 0.19,\n        \"max\": 10.71,\n        \"num_unique_values\": 94,\n        \"samples\": [\n          8.46,\n          3.65\n        ],\n        \"semantic_type\": \"\",\n        \"description\": \"\"\n      }\n    },\n    {\n      \"column\": \"converted\",\n      \"properties\": {\n        \"dtype\": \"category\",\n        \"num_unique_values\": 2,\n        \"samples\": [\n          \"yes\",\n          \"no\"\n        ],\n        \"semantic_type\": \"\",\n        \"description\": \"\"\n      }\n    },\n    {\n      \"column\": \"language_preferred\",\n      \"properties\": {\n        \"dtype\": \"category\",\n        \"num_unique_values\": 3,\n        \"samples\": [\n          \"Spanish\",\n          \"English\"\n        ],\n        \"semantic_type\": \"\",\n        \"description\": \"\"\n      }\n    }\n  ]\n}"
            }
          },
          "metadata": {},
          "execution_count": 4
        }
      ]
    },
    {
      "cell_type": "markdown",
      "source": [
        "## Observations\n",
        "#### The dataset has six(6) columns consisting of two columns with numerical data and 4 columns with categorical data. For the columns with numerical data, the user_id is a unique identifier and therefore its statistics will not yield any actionable insight unlike the time_spent_on_the_page column.\n"
      ],
      "metadata": {
        "id": "hz-xsNVKUHRw"
      },
      "id": "hz-xsNVKUHRw"
    },
    {
      "cell_type": "code",
      "source": [
        "# Checking the bottom 5 rows of the dataset\n",
        "df.tail()"
      ],
      "metadata": {
        "colab": {
          "base_uri": "https://localhost:8080/",
          "height": 206
        },
        "id": "AXEh7ZbdhV-h",
        "outputId": "bd25eeec-7dcb-443a-80e7-759178adde73"
      },
      "id": "AXEh7ZbdhV-h",
      "execution_count": null,
      "outputs": [
        {
          "output_type": "execute_result",
          "data": {
            "text/plain": [
              "    user_id      group landing_page  time_spent_on_the_page converted  \\\n",
              "95   546446  treatment          new                    5.15        no   \n",
              "96   546544    control          old                    6.52       yes   \n",
              "97   546472  treatment          new                    7.07       yes   \n",
              "98   546481  treatment          new                    6.20       yes   \n",
              "99   546483  treatment          new                    5.86       yes   \n",
              "\n",
              "   language_preferred  \n",
              "95            Spanish  \n",
              "96            English  \n",
              "97            Spanish  \n",
              "98            Spanish  \n",
              "99            English  "
            ],
            "text/html": [
              "\n",
              "  <div id=\"df-9043a4ca-36a6-4aba-a5fd-245f5ee309eb\" class=\"colab-df-container\">\n",
              "    <div>\n",
              "<style scoped>\n",
              "    .dataframe tbody tr th:only-of-type {\n",
              "        vertical-align: middle;\n",
              "    }\n",
              "\n",
              "    .dataframe tbody tr th {\n",
              "        vertical-align: top;\n",
              "    }\n",
              "\n",
              "    .dataframe thead th {\n",
              "        text-align: right;\n",
              "    }\n",
              "</style>\n",
              "<table border=\"1\" class=\"dataframe\">\n",
              "  <thead>\n",
              "    <tr style=\"text-align: right;\">\n",
              "      <th></th>\n",
              "      <th>user_id</th>\n",
              "      <th>group</th>\n",
              "      <th>landing_page</th>\n",
              "      <th>time_spent_on_the_page</th>\n",
              "      <th>converted</th>\n",
              "      <th>language_preferred</th>\n",
              "    </tr>\n",
              "  </thead>\n",
              "  <tbody>\n",
              "    <tr>\n",
              "      <th>95</th>\n",
              "      <td>546446</td>\n",
              "      <td>treatment</td>\n",
              "      <td>new</td>\n",
              "      <td>5.15</td>\n",
              "      <td>no</td>\n",
              "      <td>Spanish</td>\n",
              "    </tr>\n",
              "    <tr>\n",
              "      <th>96</th>\n",
              "      <td>546544</td>\n",
              "      <td>control</td>\n",
              "      <td>old</td>\n",
              "      <td>6.52</td>\n",
              "      <td>yes</td>\n",
              "      <td>English</td>\n",
              "    </tr>\n",
              "    <tr>\n",
              "      <th>97</th>\n",
              "      <td>546472</td>\n",
              "      <td>treatment</td>\n",
              "      <td>new</td>\n",
              "      <td>7.07</td>\n",
              "      <td>yes</td>\n",
              "      <td>Spanish</td>\n",
              "    </tr>\n",
              "    <tr>\n",
              "      <th>98</th>\n",
              "      <td>546481</td>\n",
              "      <td>treatment</td>\n",
              "      <td>new</td>\n",
              "      <td>6.20</td>\n",
              "      <td>yes</td>\n",
              "      <td>Spanish</td>\n",
              "    </tr>\n",
              "    <tr>\n",
              "      <th>99</th>\n",
              "      <td>546483</td>\n",
              "      <td>treatment</td>\n",
              "      <td>new</td>\n",
              "      <td>5.86</td>\n",
              "      <td>yes</td>\n",
              "      <td>English</td>\n",
              "    </tr>\n",
              "  </tbody>\n",
              "</table>\n",
              "</div>\n",
              "    <div class=\"colab-df-buttons\">\n",
              "\n",
              "  <div class=\"colab-df-container\">\n",
              "    <button class=\"colab-df-convert\" onclick=\"convertToInteractive('df-9043a4ca-36a6-4aba-a5fd-245f5ee309eb')\"\n",
              "            title=\"Convert this dataframe to an interactive table.\"\n",
              "            style=\"display:none;\">\n",
              "\n",
              "  <svg xmlns=\"http://www.w3.org/2000/svg\" height=\"24px\" viewBox=\"0 -960 960 960\">\n",
              "    <path d=\"M120-120v-720h720v720H120Zm60-500h600v-160H180v160Zm220 220h160v-160H400v160Zm0 220h160v-160H400v160ZM180-400h160v-160H180v160Zm440 0h160v-160H620v160ZM180-180h160v-160H180v160Zm440 0h160v-160H620v160Z\"/>\n",
              "  </svg>\n",
              "    </button>\n",
              "\n",
              "  <style>\n",
              "    .colab-df-container {\n",
              "      display:flex;\n",
              "      gap: 12px;\n",
              "    }\n",
              "\n",
              "    .colab-df-convert {\n",
              "      background-color: #E8F0FE;\n",
              "      border: none;\n",
              "      border-radius: 50%;\n",
              "      cursor: pointer;\n",
              "      display: none;\n",
              "      fill: #1967D2;\n",
              "      height: 32px;\n",
              "      padding: 0 0 0 0;\n",
              "      width: 32px;\n",
              "    }\n",
              "\n",
              "    .colab-df-convert:hover {\n",
              "      background-color: #E2EBFA;\n",
              "      box-shadow: 0px 1px 2px rgba(60, 64, 67, 0.3), 0px 1px 3px 1px rgba(60, 64, 67, 0.15);\n",
              "      fill: #174EA6;\n",
              "    }\n",
              "\n",
              "    .colab-df-buttons div {\n",
              "      margin-bottom: 4px;\n",
              "    }\n",
              "\n",
              "    [theme=dark] .colab-df-convert {\n",
              "      background-color: #3B4455;\n",
              "      fill: #D2E3FC;\n",
              "    }\n",
              "\n",
              "    [theme=dark] .colab-df-convert:hover {\n",
              "      background-color: #434B5C;\n",
              "      box-shadow: 0px 1px 3px 1px rgba(0, 0, 0, 0.15);\n",
              "      filter: drop-shadow(0px 1px 2px rgba(0, 0, 0, 0.3));\n",
              "      fill: #FFFFFF;\n",
              "    }\n",
              "  </style>\n",
              "\n",
              "    <script>\n",
              "      const buttonEl =\n",
              "        document.querySelector('#df-9043a4ca-36a6-4aba-a5fd-245f5ee309eb button.colab-df-convert');\n",
              "      buttonEl.style.display =\n",
              "        google.colab.kernel.accessAllowed ? 'block' : 'none';\n",
              "\n",
              "      async function convertToInteractive(key) {\n",
              "        const element = document.querySelector('#df-9043a4ca-36a6-4aba-a5fd-245f5ee309eb');\n",
              "        const dataTable =\n",
              "          await google.colab.kernel.invokeFunction('convertToInteractive',\n",
              "                                                    [key], {});\n",
              "        if (!dataTable) return;\n",
              "\n",
              "        const docLinkHtml = 'Like what you see? Visit the ' +\n",
              "          '<a target=\"_blank\" href=https://colab.research.google.com/notebooks/data_table.ipynb>data table notebook</a>'\n",
              "          + ' to learn more about interactive tables.';\n",
              "        element.innerHTML = '';\n",
              "        dataTable['output_type'] = 'display_data';\n",
              "        await google.colab.output.renderOutput(dataTable, element);\n",
              "        const docLink = document.createElement('div');\n",
              "        docLink.innerHTML = docLinkHtml;\n",
              "        element.appendChild(docLink);\n",
              "      }\n",
              "    </script>\n",
              "  </div>\n",
              "\n",
              "\n",
              "<div id=\"df-91058adf-fa14-42e9-b35d-bc1398d5fca3\">\n",
              "  <button class=\"colab-df-quickchart\" onclick=\"quickchart('df-91058adf-fa14-42e9-b35d-bc1398d5fca3')\"\n",
              "            title=\"Suggest charts\"\n",
              "            style=\"display:none;\">\n",
              "\n",
              "<svg xmlns=\"http://www.w3.org/2000/svg\" height=\"24px\"viewBox=\"0 0 24 24\"\n",
              "     width=\"24px\">\n",
              "    <g>\n",
              "        <path d=\"M19 3H5c-1.1 0-2 .9-2 2v14c0 1.1.9 2 2 2h14c1.1 0 2-.9 2-2V5c0-1.1-.9-2-2-2zM9 17H7v-7h2v7zm4 0h-2V7h2v10zm4 0h-2v-4h2v4z\"/>\n",
              "    </g>\n",
              "</svg>\n",
              "  </button>\n",
              "\n",
              "<style>\n",
              "  .colab-df-quickchart {\n",
              "      --bg-color: #E8F0FE;\n",
              "      --fill-color: #1967D2;\n",
              "      --hover-bg-color: #E2EBFA;\n",
              "      --hover-fill-color: #174EA6;\n",
              "      --disabled-fill-color: #AAA;\n",
              "      --disabled-bg-color: #DDD;\n",
              "  }\n",
              "\n",
              "  [theme=dark] .colab-df-quickchart {\n",
              "      --bg-color: #3B4455;\n",
              "      --fill-color: #D2E3FC;\n",
              "      --hover-bg-color: #434B5C;\n",
              "      --hover-fill-color: #FFFFFF;\n",
              "      --disabled-bg-color: #3B4455;\n",
              "      --disabled-fill-color: #666;\n",
              "  }\n",
              "\n",
              "  .colab-df-quickchart {\n",
              "    background-color: var(--bg-color);\n",
              "    border: none;\n",
              "    border-radius: 50%;\n",
              "    cursor: pointer;\n",
              "    display: none;\n",
              "    fill: var(--fill-color);\n",
              "    height: 32px;\n",
              "    padding: 0;\n",
              "    width: 32px;\n",
              "  }\n",
              "\n",
              "  .colab-df-quickchart:hover {\n",
              "    background-color: var(--hover-bg-color);\n",
              "    box-shadow: 0 1px 2px rgba(60, 64, 67, 0.3), 0 1px 3px 1px rgba(60, 64, 67, 0.15);\n",
              "    fill: var(--button-hover-fill-color);\n",
              "  }\n",
              "\n",
              "  .colab-df-quickchart-complete:disabled,\n",
              "  .colab-df-quickchart-complete:disabled:hover {\n",
              "    background-color: var(--disabled-bg-color);\n",
              "    fill: var(--disabled-fill-color);\n",
              "    box-shadow: none;\n",
              "  }\n",
              "\n",
              "  .colab-df-spinner {\n",
              "    border: 2px solid var(--fill-color);\n",
              "    border-color: transparent;\n",
              "    border-bottom-color: var(--fill-color);\n",
              "    animation:\n",
              "      spin 1s steps(1) infinite;\n",
              "  }\n",
              "\n",
              "  @keyframes spin {\n",
              "    0% {\n",
              "      border-color: transparent;\n",
              "      border-bottom-color: var(--fill-color);\n",
              "      border-left-color: var(--fill-color);\n",
              "    }\n",
              "    20% {\n",
              "      border-color: transparent;\n",
              "      border-left-color: var(--fill-color);\n",
              "      border-top-color: var(--fill-color);\n",
              "    }\n",
              "    30% {\n",
              "      border-color: transparent;\n",
              "      border-left-color: var(--fill-color);\n",
              "      border-top-color: var(--fill-color);\n",
              "      border-right-color: var(--fill-color);\n",
              "    }\n",
              "    40% {\n",
              "      border-color: transparent;\n",
              "      border-right-color: var(--fill-color);\n",
              "      border-top-color: var(--fill-color);\n",
              "    }\n",
              "    60% {\n",
              "      border-color: transparent;\n",
              "      border-right-color: var(--fill-color);\n",
              "    }\n",
              "    80% {\n",
              "      border-color: transparent;\n",
              "      border-right-color: var(--fill-color);\n",
              "      border-bottom-color: var(--fill-color);\n",
              "    }\n",
              "    90% {\n",
              "      border-color: transparent;\n",
              "      border-bottom-color: var(--fill-color);\n",
              "    }\n",
              "  }\n",
              "</style>\n",
              "\n",
              "  <script>\n",
              "    async function quickchart(key) {\n",
              "      const quickchartButtonEl =\n",
              "        document.querySelector('#' + key + ' button');\n",
              "      quickchartButtonEl.disabled = true;  // To prevent multiple clicks.\n",
              "      quickchartButtonEl.classList.add('colab-df-spinner');\n",
              "      try {\n",
              "        const charts = await google.colab.kernel.invokeFunction(\n",
              "            'suggestCharts', [key], {});\n",
              "      } catch (error) {\n",
              "        console.error('Error during call to suggestCharts:', error);\n",
              "      }\n",
              "      quickchartButtonEl.classList.remove('colab-df-spinner');\n",
              "      quickchartButtonEl.classList.add('colab-df-quickchart-complete');\n",
              "    }\n",
              "    (() => {\n",
              "      let quickchartButtonEl =\n",
              "        document.querySelector('#df-91058adf-fa14-42e9-b35d-bc1398d5fca3 button');\n",
              "      quickchartButtonEl.style.display =\n",
              "        google.colab.kernel.accessAllowed ? 'block' : 'none';\n",
              "    })();\n",
              "  </script>\n",
              "</div>\n",
              "\n",
              "    </div>\n",
              "  </div>\n"
            ],
            "application/vnd.google.colaboratory.intrinsic+json": {
              "type": "dataframe",
              "summary": "{\n  \"name\": \"df\",\n  \"rows\": 5,\n  \"fields\": [\n    {\n      \"column\": \"user_id\",\n      \"properties\": {\n        \"dtype\": \"number\",\n        \"std\": 36,\n        \"min\": 546446,\n        \"max\": 546544,\n        \"num_unique_values\": 5,\n        \"samples\": [\n          546544,\n          546483,\n          546472\n        ],\n        \"semantic_type\": \"\",\n        \"description\": \"\"\n      }\n    },\n    {\n      \"column\": \"group\",\n      \"properties\": {\n        \"dtype\": \"category\",\n        \"num_unique_values\": 2,\n        \"samples\": [\n          \"control\",\n          \"treatment\"\n        ],\n        \"semantic_type\": \"\",\n        \"description\": \"\"\n      }\n    },\n    {\n      \"column\": \"landing_page\",\n      \"properties\": {\n        \"dtype\": \"category\",\n        \"num_unique_values\": 2,\n        \"samples\": [\n          \"old\",\n          \"new\"\n        ],\n        \"semantic_type\": \"\",\n        \"description\": \"\"\n      }\n    },\n    {\n      \"column\": \"time_spent_on_the_page\",\n      \"properties\": {\n        \"dtype\": \"number\",\n        \"std\": 0.7192704637339141,\n        \"min\": 5.15,\n        \"max\": 7.07,\n        \"num_unique_values\": 5,\n        \"samples\": [\n          6.52,\n          5.86\n        ],\n        \"semantic_type\": \"\",\n        \"description\": \"\"\n      }\n    },\n    {\n      \"column\": \"converted\",\n      \"properties\": {\n        \"dtype\": \"category\",\n        \"num_unique_values\": 2,\n        \"samples\": [\n          \"yes\",\n          \"no\"\n        ],\n        \"semantic_type\": \"\",\n        \"description\": \"\"\n      }\n    },\n    {\n      \"column\": \"language_preferred\",\n      \"properties\": {\n        \"dtype\": \"category\",\n        \"num_unique_values\": 2,\n        \"samples\": [\n          \"English\",\n          \"Spanish\"\n        ],\n        \"semantic_type\": \"\",\n        \"description\": \"\"\n      }\n    }\n  ]\n}"
            }
          },
          "metadata": {},
          "execution_count": 16
        }
      ]
    },
    {
      "cell_type": "code",
      "source": [
        "# Checking the number of rows and columns in the dataset\n",
        "df.shape"
      ],
      "metadata": {
        "colab": {
          "base_uri": "https://localhost:8080/"
        },
        "id": "hk8RM7ndUBX_",
        "outputId": "dc0a2227-6d02-4ada-8125-e878fcaf01cc"
      },
      "id": "hk8RM7ndUBX_",
      "execution_count": null,
      "outputs": [
        {
          "output_type": "execute_result",
          "data": {
            "text/plain": [
              "(100, 6)"
            ]
          },
          "metadata": {},
          "execution_count": 5
        }
      ]
    },
    {
      "cell_type": "markdown",
      "source": [
        "## Observation\n",
        "#### The dataset has 100 rows and 6 columns"
      ],
      "metadata": {
        "id": "jCH3hpikViuU"
      },
      "id": "jCH3hpikViuU"
    },
    {
      "cell_type": "code",
      "source": [
        "# Checking the datatypes contained in the dataset\n",
        "df.info()"
      ],
      "metadata": {
        "colab": {
          "base_uri": "https://localhost:8080/"
        },
        "id": "Yny_ghOXVwp_",
        "outputId": "225c92d4-4323-4e5a-c6a3-adb73559e0d8"
      },
      "id": "Yny_ghOXVwp_",
      "execution_count": null,
      "outputs": [
        {
          "output_type": "stream",
          "name": "stdout",
          "text": [
            "<class 'pandas.core.frame.DataFrame'>\n",
            "RangeIndex: 100 entries, 0 to 99\n",
            "Data columns (total 6 columns):\n",
            " #   Column                  Non-Null Count  Dtype  \n",
            "---  ------                  --------------  -----  \n",
            " 0   user_id                 100 non-null    int64  \n",
            " 1   group                   100 non-null    object \n",
            " 2   landing_page            100 non-null    object \n",
            " 3   time_spent_on_the_page  100 non-null    float64\n",
            " 4   converted               100 non-null    object \n",
            " 5   language_preferred      100 non-null    object \n",
            "dtypes: float64(1), int64(1), object(4)\n",
            "memory usage: 4.8+ KB\n"
          ]
        }
      ]
    },
    {
      "cell_type": "markdown",
      "source": [
        "## Observation\n",
        "#### The different datatypes contained in the dataset includes the integer (user_id), string or object (group, landing_page, converted, language_preferred) and the float (time_spent_on_the_page).\n",
        "#### From the Non-Null Count, it can be noticed that there are no missing data and the memory usage is about 4.8 KB"
      ],
      "metadata": {
        "id": "TNGlYpyjV8Lo"
      },
      "id": "TNGlYpyjV8Lo"
    },
    {
      "cell_type": "code",
      "source": [
        "# Obtaining the summary statistics of the dataset\n",
        "df.describe().T"
      ],
      "metadata": {
        "colab": {
          "base_uri": "https://localhost:8080/",
          "height": 112
        },
        "id": "n86IKcZuXU0j",
        "outputId": "e180debb-f725-402e-e118-e24caabe7225"
      },
      "id": "n86IKcZuXU0j",
      "execution_count": null,
      "outputs": [
        {
          "output_type": "execute_result",
          "data": {
            "text/plain": [
              "                        count         mean        std        min        25%  \\\n",
              "user_id                 100.0  546517.0000  52.295779  546443.00  546467.75   \n",
              "time_spent_on_the_page  100.0       5.3778   2.378166       0.19       3.88   \n",
              "\n",
              "                               50%          75%        max  \n",
              "user_id                 546492.500  546567.2500  546592.00  \n",
              "time_spent_on_the_page       5.415       7.0225      10.71  "
            ],
            "text/html": [
              "\n",
              "  <div id=\"df-87947284-85aa-4a1c-af69-1d24332be018\" class=\"colab-df-container\">\n",
              "    <div>\n",
              "<style scoped>\n",
              "    .dataframe tbody tr th:only-of-type {\n",
              "        vertical-align: middle;\n",
              "    }\n",
              "\n",
              "    .dataframe tbody tr th {\n",
              "        vertical-align: top;\n",
              "    }\n",
              "\n",
              "    .dataframe thead th {\n",
              "        text-align: right;\n",
              "    }\n",
              "</style>\n",
              "<table border=\"1\" class=\"dataframe\">\n",
              "  <thead>\n",
              "    <tr style=\"text-align: right;\">\n",
              "      <th></th>\n",
              "      <th>count</th>\n",
              "      <th>mean</th>\n",
              "      <th>std</th>\n",
              "      <th>min</th>\n",
              "      <th>25%</th>\n",
              "      <th>50%</th>\n",
              "      <th>75%</th>\n",
              "      <th>max</th>\n",
              "    </tr>\n",
              "  </thead>\n",
              "  <tbody>\n",
              "    <tr>\n",
              "      <th>user_id</th>\n",
              "      <td>100.0</td>\n",
              "      <td>546517.0000</td>\n",
              "      <td>52.295779</td>\n",
              "      <td>546443.00</td>\n",
              "      <td>546467.75</td>\n",
              "      <td>546492.500</td>\n",
              "      <td>546567.2500</td>\n",
              "      <td>546592.00</td>\n",
              "    </tr>\n",
              "    <tr>\n",
              "      <th>time_spent_on_the_page</th>\n",
              "      <td>100.0</td>\n",
              "      <td>5.3778</td>\n",
              "      <td>2.378166</td>\n",
              "      <td>0.19</td>\n",
              "      <td>3.88</td>\n",
              "      <td>5.415</td>\n",
              "      <td>7.0225</td>\n",
              "      <td>10.71</td>\n",
              "    </tr>\n",
              "  </tbody>\n",
              "</table>\n",
              "</div>\n",
              "    <div class=\"colab-df-buttons\">\n",
              "\n",
              "  <div class=\"colab-df-container\">\n",
              "    <button class=\"colab-df-convert\" onclick=\"convertToInteractive('df-87947284-85aa-4a1c-af69-1d24332be018')\"\n",
              "            title=\"Convert this dataframe to an interactive table.\"\n",
              "            style=\"display:none;\">\n",
              "\n",
              "  <svg xmlns=\"http://www.w3.org/2000/svg\" height=\"24px\" viewBox=\"0 -960 960 960\">\n",
              "    <path d=\"M120-120v-720h720v720H120Zm60-500h600v-160H180v160Zm220 220h160v-160H400v160Zm0 220h160v-160H400v160ZM180-400h160v-160H180v160Zm440 0h160v-160H620v160ZM180-180h160v-160H180v160Zm440 0h160v-160H620v160Z\"/>\n",
              "  </svg>\n",
              "    </button>\n",
              "\n",
              "  <style>\n",
              "    .colab-df-container {\n",
              "      display:flex;\n",
              "      gap: 12px;\n",
              "    }\n",
              "\n",
              "    .colab-df-convert {\n",
              "      background-color: #E8F0FE;\n",
              "      border: none;\n",
              "      border-radius: 50%;\n",
              "      cursor: pointer;\n",
              "      display: none;\n",
              "      fill: #1967D2;\n",
              "      height: 32px;\n",
              "      padding: 0 0 0 0;\n",
              "      width: 32px;\n",
              "    }\n",
              "\n",
              "    .colab-df-convert:hover {\n",
              "      background-color: #E2EBFA;\n",
              "      box-shadow: 0px 1px 2px rgba(60, 64, 67, 0.3), 0px 1px 3px 1px rgba(60, 64, 67, 0.15);\n",
              "      fill: #174EA6;\n",
              "    }\n",
              "\n",
              "    .colab-df-buttons div {\n",
              "      margin-bottom: 4px;\n",
              "    }\n",
              "\n",
              "    [theme=dark] .colab-df-convert {\n",
              "      background-color: #3B4455;\n",
              "      fill: #D2E3FC;\n",
              "    }\n",
              "\n",
              "    [theme=dark] .colab-df-convert:hover {\n",
              "      background-color: #434B5C;\n",
              "      box-shadow: 0px 1px 3px 1px rgba(0, 0, 0, 0.15);\n",
              "      filter: drop-shadow(0px 1px 2px rgba(0, 0, 0, 0.3));\n",
              "      fill: #FFFFFF;\n",
              "    }\n",
              "  </style>\n",
              "\n",
              "    <script>\n",
              "      const buttonEl =\n",
              "        document.querySelector('#df-87947284-85aa-4a1c-af69-1d24332be018 button.colab-df-convert');\n",
              "      buttonEl.style.display =\n",
              "        google.colab.kernel.accessAllowed ? 'block' : 'none';\n",
              "\n",
              "      async function convertToInteractive(key) {\n",
              "        const element = document.querySelector('#df-87947284-85aa-4a1c-af69-1d24332be018');\n",
              "        const dataTable =\n",
              "          await google.colab.kernel.invokeFunction('convertToInteractive',\n",
              "                                                    [key], {});\n",
              "        if (!dataTable) return;\n",
              "\n",
              "        const docLinkHtml = 'Like what you see? Visit the ' +\n",
              "          '<a target=\"_blank\" href=https://colab.research.google.com/notebooks/data_table.ipynb>data table notebook</a>'\n",
              "          + ' to learn more about interactive tables.';\n",
              "        element.innerHTML = '';\n",
              "        dataTable['output_type'] = 'display_data';\n",
              "        await google.colab.output.renderOutput(dataTable, element);\n",
              "        const docLink = document.createElement('div');\n",
              "        docLink.innerHTML = docLinkHtml;\n",
              "        element.appendChild(docLink);\n",
              "      }\n",
              "    </script>\n",
              "  </div>\n",
              "\n",
              "\n",
              "<div id=\"df-a5de212e-af50-4c83-8cb4-1a851bc23b38\">\n",
              "  <button class=\"colab-df-quickchart\" onclick=\"quickchart('df-a5de212e-af50-4c83-8cb4-1a851bc23b38')\"\n",
              "            title=\"Suggest charts\"\n",
              "            style=\"display:none;\">\n",
              "\n",
              "<svg xmlns=\"http://www.w3.org/2000/svg\" height=\"24px\"viewBox=\"0 0 24 24\"\n",
              "     width=\"24px\">\n",
              "    <g>\n",
              "        <path d=\"M19 3H5c-1.1 0-2 .9-2 2v14c0 1.1.9 2 2 2h14c1.1 0 2-.9 2-2V5c0-1.1-.9-2-2-2zM9 17H7v-7h2v7zm4 0h-2V7h2v10zm4 0h-2v-4h2v4z\"/>\n",
              "    </g>\n",
              "</svg>\n",
              "  </button>\n",
              "\n",
              "<style>\n",
              "  .colab-df-quickchart {\n",
              "      --bg-color: #E8F0FE;\n",
              "      --fill-color: #1967D2;\n",
              "      --hover-bg-color: #E2EBFA;\n",
              "      --hover-fill-color: #174EA6;\n",
              "      --disabled-fill-color: #AAA;\n",
              "      --disabled-bg-color: #DDD;\n",
              "  }\n",
              "\n",
              "  [theme=dark] .colab-df-quickchart {\n",
              "      --bg-color: #3B4455;\n",
              "      --fill-color: #D2E3FC;\n",
              "      --hover-bg-color: #434B5C;\n",
              "      --hover-fill-color: #FFFFFF;\n",
              "      --disabled-bg-color: #3B4455;\n",
              "      --disabled-fill-color: #666;\n",
              "  }\n",
              "\n",
              "  .colab-df-quickchart {\n",
              "    background-color: var(--bg-color);\n",
              "    border: none;\n",
              "    border-radius: 50%;\n",
              "    cursor: pointer;\n",
              "    display: none;\n",
              "    fill: var(--fill-color);\n",
              "    height: 32px;\n",
              "    padding: 0;\n",
              "    width: 32px;\n",
              "  }\n",
              "\n",
              "  .colab-df-quickchart:hover {\n",
              "    background-color: var(--hover-bg-color);\n",
              "    box-shadow: 0 1px 2px rgba(60, 64, 67, 0.3), 0 1px 3px 1px rgba(60, 64, 67, 0.15);\n",
              "    fill: var(--button-hover-fill-color);\n",
              "  }\n",
              "\n",
              "  .colab-df-quickchart-complete:disabled,\n",
              "  .colab-df-quickchart-complete:disabled:hover {\n",
              "    background-color: var(--disabled-bg-color);\n",
              "    fill: var(--disabled-fill-color);\n",
              "    box-shadow: none;\n",
              "  }\n",
              "\n",
              "  .colab-df-spinner {\n",
              "    border: 2px solid var(--fill-color);\n",
              "    border-color: transparent;\n",
              "    border-bottom-color: var(--fill-color);\n",
              "    animation:\n",
              "      spin 1s steps(1) infinite;\n",
              "  }\n",
              "\n",
              "  @keyframes spin {\n",
              "    0% {\n",
              "      border-color: transparent;\n",
              "      border-bottom-color: var(--fill-color);\n",
              "      border-left-color: var(--fill-color);\n",
              "    }\n",
              "    20% {\n",
              "      border-color: transparent;\n",
              "      border-left-color: var(--fill-color);\n",
              "      border-top-color: var(--fill-color);\n",
              "    }\n",
              "    30% {\n",
              "      border-color: transparent;\n",
              "      border-left-color: var(--fill-color);\n",
              "      border-top-color: var(--fill-color);\n",
              "      border-right-color: var(--fill-color);\n",
              "    }\n",
              "    40% {\n",
              "      border-color: transparent;\n",
              "      border-right-color: var(--fill-color);\n",
              "      border-top-color: var(--fill-color);\n",
              "    }\n",
              "    60% {\n",
              "      border-color: transparent;\n",
              "      border-right-color: var(--fill-color);\n",
              "    }\n",
              "    80% {\n",
              "      border-color: transparent;\n",
              "      border-right-color: var(--fill-color);\n",
              "      border-bottom-color: var(--fill-color);\n",
              "    }\n",
              "    90% {\n",
              "      border-color: transparent;\n",
              "      border-bottom-color: var(--fill-color);\n",
              "    }\n",
              "  }\n",
              "</style>\n",
              "\n",
              "  <script>\n",
              "    async function quickchart(key) {\n",
              "      const quickchartButtonEl =\n",
              "        document.querySelector('#' + key + ' button');\n",
              "      quickchartButtonEl.disabled = true;  // To prevent multiple clicks.\n",
              "      quickchartButtonEl.classList.add('colab-df-spinner');\n",
              "      try {\n",
              "        const charts = await google.colab.kernel.invokeFunction(\n",
              "            'suggestCharts', [key], {});\n",
              "      } catch (error) {\n",
              "        console.error('Error during call to suggestCharts:', error);\n",
              "      }\n",
              "      quickchartButtonEl.classList.remove('colab-df-spinner');\n",
              "      quickchartButtonEl.classList.add('colab-df-quickchart-complete');\n",
              "    }\n",
              "    (() => {\n",
              "      let quickchartButtonEl =\n",
              "        document.querySelector('#df-a5de212e-af50-4c83-8cb4-1a851bc23b38 button');\n",
              "      quickchartButtonEl.style.display =\n",
              "        google.colab.kernel.accessAllowed ? 'block' : 'none';\n",
              "    })();\n",
              "  </script>\n",
              "</div>\n",
              "\n",
              "    </div>\n",
              "  </div>\n"
            ],
            "application/vnd.google.colaboratory.intrinsic+json": {
              "type": "dataframe",
              "summary": "{\n  \"name\": \"df\",\n  \"rows\": 2,\n  \"fields\": [\n    {\n      \"column\": \"count\",\n      \"properties\": {\n        \"dtype\": \"number\",\n        \"std\": 0.0,\n        \"min\": 100.0,\n        \"max\": 100.0,\n        \"num_unique_values\": 1,\n        \"samples\": [\n          100.0\n        ],\n        \"semantic_type\": \"\",\n        \"description\": \"\"\n      }\n    },\n    {\n      \"column\": \"mean\",\n      \"properties\": {\n        \"dtype\": \"number\",\n        \"std\": 386442.07405488053,\n        \"min\": 5.377800000000001,\n        \"max\": 546517.0,\n        \"num_unique_values\": 2,\n        \"samples\": [\n          5.377800000000001\n        ],\n        \"semantic_type\": \"\",\n        \"description\": \"\"\n      }\n    },\n    {\n      \"column\": \"std\",\n      \"properties\": {\n        \"dtype\": \"number\",\n        \"std\": 35.29708248647065,\n        \"min\": 2.378166078933492,\n        \"max\": 52.29577884350213,\n        \"num_unique_values\": 2,\n        \"samples\": [\n          2.378166078933492\n        ],\n        \"semantic_type\": \"\",\n        \"description\": \"\"\n      }\n    },\n    {\n      \"column\": \"min\",\n      \"properties\": {\n        \"dtype\": \"number\",\n        \"std\": 386393.41648163216,\n        \"min\": 0.19,\n        \"max\": 546443.0,\n        \"num_unique_values\": 2,\n        \"samples\": [\n          0.19\n        ],\n        \"semantic_type\": \"\",\n        \"description\": \"\"\n      }\n    },\n    {\n      \"column\": \"25%\",\n      \"properties\": {\n        \"dtype\": \"number\",\n        \"std\": 386408.30815044395,\n        \"min\": 3.88,\n        \"max\": 546467.75,\n        \"num_unique_values\": 2,\n        \"samples\": [\n          3.88\n        ],\n        \"semantic_type\": \"\",\n        \"description\": \"\"\n      }\n    },\n    {\n      \"column\": \"50%\",\n      \"properties\": {\n        \"dtype\": \"number\",\n        \"std\": 386424.7236343692,\n        \"min\": 5.415,\n        \"max\": 546492.5,\n        \"num_unique_values\": 2,\n        \"samples\": [\n          5.415\n        ],\n        \"semantic_type\": \"\",\n        \"description\": \"\"\n      }\n    },\n    {\n      \"column\": \"75%\",\n      \"properties\": {\n        \"dtype\": \"number\",\n        \"std\": 386476.44319211214,\n        \"min\": 7.0225,\n        \"max\": 546567.25,\n        \"num_unique_values\": 2,\n        \"samples\": [\n          7.0225\n        ],\n        \"semantic_type\": \"\",\n        \"description\": \"\"\n      }\n    },\n    {\n      \"column\": \"max\",\n      \"properties\": {\n        \"dtype\": \"number\",\n        \"std\": 386491.3366286909,\n        \"min\": 10.71,\n        \"max\": 546592.0,\n        \"num_unique_values\": 2,\n        \"samples\": [\n          10.71\n        ],\n        \"semantic_type\": \"\",\n        \"description\": \"\"\n      }\n    }\n  ]\n}"
            }
          },
          "metadata": {},
          "execution_count": 8
        }
      ]
    },
    {
      "cell_type": "markdown",
      "source": [
        "##Observation\n",
        "####It will be observed from the data that on an average, a user spends 5.4 minutes on the page and the on the whole, the time spent by subscribers ranges from 0.19 minutes to 10.71 minutes.\n",
        "####Since the mean and the median time spent by the users on the page are almost identical, the distribution of the dataset could be assumed to be normal.\n",
        "####The statistics of the user_id does not present any insight since it is a unique identifier"
      ],
      "metadata": {
        "id": "wzhgHP5OXgdw"
      },
      "id": "wzhgHP5OXgdw"
    },
    {
      "cell_type": "code",
      "source": [
        "# Obtaining the summary statistics including the categorical data\n",
        "df.describe(include = 'all').T"
      ],
      "metadata": {
        "colab": {
          "base_uri": "https://localhost:8080/",
          "height": 237
        },
        "id": "P4VST57GdNVt",
        "outputId": "6a9925a1-4910-43be-8008-8db21256d676"
      },
      "id": "P4VST57GdNVt",
      "execution_count": null,
      "outputs": [
        {
          "output_type": "execute_result",
          "data": {
            "text/plain": [
              "                        count unique      top freq      mean        std  \\\n",
              "user_id                 100.0    NaN      NaN  NaN  546517.0  52.295779   \n",
              "group                     100      2  control   50       NaN        NaN   \n",
              "landing_page              100      2      old   50       NaN        NaN   \n",
              "time_spent_on_the_page  100.0    NaN      NaN  NaN    5.3778   2.378166   \n",
              "converted                 100      2      yes   54       NaN        NaN   \n",
              "language_preferred        100      3  Spanish   34       NaN        NaN   \n",
              "\n",
              "                             min        25%       50%        75%       max  \n",
              "user_id                 546443.0  546467.75  546492.5  546567.25  546592.0  \n",
              "group                        NaN        NaN       NaN        NaN       NaN  \n",
              "landing_page                 NaN        NaN       NaN        NaN       NaN  \n",
              "time_spent_on_the_page      0.19       3.88     5.415     7.0225     10.71  \n",
              "converted                    NaN        NaN       NaN        NaN       NaN  \n",
              "language_preferred           NaN        NaN       NaN        NaN       NaN  "
            ],
            "text/html": [
              "\n",
              "  <div id=\"df-b4d8fdf5-f171-4d53-ab54-a88f31f4ac44\" class=\"colab-df-container\">\n",
              "    <div>\n",
              "<style scoped>\n",
              "    .dataframe tbody tr th:only-of-type {\n",
              "        vertical-align: middle;\n",
              "    }\n",
              "\n",
              "    .dataframe tbody tr th {\n",
              "        vertical-align: top;\n",
              "    }\n",
              "\n",
              "    .dataframe thead th {\n",
              "        text-align: right;\n",
              "    }\n",
              "</style>\n",
              "<table border=\"1\" class=\"dataframe\">\n",
              "  <thead>\n",
              "    <tr style=\"text-align: right;\">\n",
              "      <th></th>\n",
              "      <th>count</th>\n",
              "      <th>unique</th>\n",
              "      <th>top</th>\n",
              "      <th>freq</th>\n",
              "      <th>mean</th>\n",
              "      <th>std</th>\n",
              "      <th>min</th>\n",
              "      <th>25%</th>\n",
              "      <th>50%</th>\n",
              "      <th>75%</th>\n",
              "      <th>max</th>\n",
              "    </tr>\n",
              "  </thead>\n",
              "  <tbody>\n",
              "    <tr>\n",
              "      <th>user_id</th>\n",
              "      <td>100.0</td>\n",
              "      <td>NaN</td>\n",
              "      <td>NaN</td>\n",
              "      <td>NaN</td>\n",
              "      <td>546517.0</td>\n",
              "      <td>52.295779</td>\n",
              "      <td>546443.0</td>\n",
              "      <td>546467.75</td>\n",
              "      <td>546492.5</td>\n",
              "      <td>546567.25</td>\n",
              "      <td>546592.0</td>\n",
              "    </tr>\n",
              "    <tr>\n",
              "      <th>group</th>\n",
              "      <td>100</td>\n",
              "      <td>2</td>\n",
              "      <td>control</td>\n",
              "      <td>50</td>\n",
              "      <td>NaN</td>\n",
              "      <td>NaN</td>\n",
              "      <td>NaN</td>\n",
              "      <td>NaN</td>\n",
              "      <td>NaN</td>\n",
              "      <td>NaN</td>\n",
              "      <td>NaN</td>\n",
              "    </tr>\n",
              "    <tr>\n",
              "      <th>landing_page</th>\n",
              "      <td>100</td>\n",
              "      <td>2</td>\n",
              "      <td>old</td>\n",
              "      <td>50</td>\n",
              "      <td>NaN</td>\n",
              "      <td>NaN</td>\n",
              "      <td>NaN</td>\n",
              "      <td>NaN</td>\n",
              "      <td>NaN</td>\n",
              "      <td>NaN</td>\n",
              "      <td>NaN</td>\n",
              "    </tr>\n",
              "    <tr>\n",
              "      <th>time_spent_on_the_page</th>\n",
              "      <td>100.0</td>\n",
              "      <td>NaN</td>\n",
              "      <td>NaN</td>\n",
              "      <td>NaN</td>\n",
              "      <td>5.3778</td>\n",
              "      <td>2.378166</td>\n",
              "      <td>0.19</td>\n",
              "      <td>3.88</td>\n",
              "      <td>5.415</td>\n",
              "      <td>7.0225</td>\n",
              "      <td>10.71</td>\n",
              "    </tr>\n",
              "    <tr>\n",
              "      <th>converted</th>\n",
              "      <td>100</td>\n",
              "      <td>2</td>\n",
              "      <td>yes</td>\n",
              "      <td>54</td>\n",
              "      <td>NaN</td>\n",
              "      <td>NaN</td>\n",
              "      <td>NaN</td>\n",
              "      <td>NaN</td>\n",
              "      <td>NaN</td>\n",
              "      <td>NaN</td>\n",
              "      <td>NaN</td>\n",
              "    </tr>\n",
              "    <tr>\n",
              "      <th>language_preferred</th>\n",
              "      <td>100</td>\n",
              "      <td>3</td>\n",
              "      <td>Spanish</td>\n",
              "      <td>34</td>\n",
              "      <td>NaN</td>\n",
              "      <td>NaN</td>\n",
              "      <td>NaN</td>\n",
              "      <td>NaN</td>\n",
              "      <td>NaN</td>\n",
              "      <td>NaN</td>\n",
              "      <td>NaN</td>\n",
              "    </tr>\n",
              "  </tbody>\n",
              "</table>\n",
              "</div>\n",
              "    <div class=\"colab-df-buttons\">\n",
              "\n",
              "  <div class=\"colab-df-container\">\n",
              "    <button class=\"colab-df-convert\" onclick=\"convertToInteractive('df-b4d8fdf5-f171-4d53-ab54-a88f31f4ac44')\"\n",
              "            title=\"Convert this dataframe to an interactive table.\"\n",
              "            style=\"display:none;\">\n",
              "\n",
              "  <svg xmlns=\"http://www.w3.org/2000/svg\" height=\"24px\" viewBox=\"0 -960 960 960\">\n",
              "    <path d=\"M120-120v-720h720v720H120Zm60-500h600v-160H180v160Zm220 220h160v-160H400v160Zm0 220h160v-160H400v160ZM180-400h160v-160H180v160Zm440 0h160v-160H620v160ZM180-180h160v-160H180v160Zm440 0h160v-160H620v160Z\"/>\n",
              "  </svg>\n",
              "    </button>\n",
              "\n",
              "  <style>\n",
              "    .colab-df-container {\n",
              "      display:flex;\n",
              "      gap: 12px;\n",
              "    }\n",
              "\n",
              "    .colab-df-convert {\n",
              "      background-color: #E8F0FE;\n",
              "      border: none;\n",
              "      border-radius: 50%;\n",
              "      cursor: pointer;\n",
              "      display: none;\n",
              "      fill: #1967D2;\n",
              "      height: 32px;\n",
              "      padding: 0 0 0 0;\n",
              "      width: 32px;\n",
              "    }\n",
              "\n",
              "    .colab-df-convert:hover {\n",
              "      background-color: #E2EBFA;\n",
              "      box-shadow: 0px 1px 2px rgba(60, 64, 67, 0.3), 0px 1px 3px 1px rgba(60, 64, 67, 0.15);\n",
              "      fill: #174EA6;\n",
              "    }\n",
              "\n",
              "    .colab-df-buttons div {\n",
              "      margin-bottom: 4px;\n",
              "    }\n",
              "\n",
              "    [theme=dark] .colab-df-convert {\n",
              "      background-color: #3B4455;\n",
              "      fill: #D2E3FC;\n",
              "    }\n",
              "\n",
              "    [theme=dark] .colab-df-convert:hover {\n",
              "      background-color: #434B5C;\n",
              "      box-shadow: 0px 1px 3px 1px rgba(0, 0, 0, 0.15);\n",
              "      filter: drop-shadow(0px 1px 2px rgba(0, 0, 0, 0.3));\n",
              "      fill: #FFFFFF;\n",
              "    }\n",
              "  </style>\n",
              "\n",
              "    <script>\n",
              "      const buttonEl =\n",
              "        document.querySelector('#df-b4d8fdf5-f171-4d53-ab54-a88f31f4ac44 button.colab-df-convert');\n",
              "      buttonEl.style.display =\n",
              "        google.colab.kernel.accessAllowed ? 'block' : 'none';\n",
              "\n",
              "      async function convertToInteractive(key) {\n",
              "        const element = document.querySelector('#df-b4d8fdf5-f171-4d53-ab54-a88f31f4ac44');\n",
              "        const dataTable =\n",
              "          await google.colab.kernel.invokeFunction('convertToInteractive',\n",
              "                                                    [key], {});\n",
              "        if (!dataTable) return;\n",
              "\n",
              "        const docLinkHtml = 'Like what you see? Visit the ' +\n",
              "          '<a target=\"_blank\" href=https://colab.research.google.com/notebooks/data_table.ipynb>data table notebook</a>'\n",
              "          + ' to learn more about interactive tables.';\n",
              "        element.innerHTML = '';\n",
              "        dataTable['output_type'] = 'display_data';\n",
              "        await google.colab.output.renderOutput(dataTable, element);\n",
              "        const docLink = document.createElement('div');\n",
              "        docLink.innerHTML = docLinkHtml;\n",
              "        element.appendChild(docLink);\n",
              "      }\n",
              "    </script>\n",
              "  </div>\n",
              "\n",
              "\n",
              "<div id=\"df-d0f705e2-70a7-4096-aa10-333c295ed094\">\n",
              "  <button class=\"colab-df-quickchart\" onclick=\"quickchart('df-d0f705e2-70a7-4096-aa10-333c295ed094')\"\n",
              "            title=\"Suggest charts\"\n",
              "            style=\"display:none;\">\n",
              "\n",
              "<svg xmlns=\"http://www.w3.org/2000/svg\" height=\"24px\"viewBox=\"0 0 24 24\"\n",
              "     width=\"24px\">\n",
              "    <g>\n",
              "        <path d=\"M19 3H5c-1.1 0-2 .9-2 2v14c0 1.1.9 2 2 2h14c1.1 0 2-.9 2-2V5c0-1.1-.9-2-2-2zM9 17H7v-7h2v7zm4 0h-2V7h2v10zm4 0h-2v-4h2v4z\"/>\n",
              "    </g>\n",
              "</svg>\n",
              "  </button>\n",
              "\n",
              "<style>\n",
              "  .colab-df-quickchart {\n",
              "      --bg-color: #E8F0FE;\n",
              "      --fill-color: #1967D2;\n",
              "      --hover-bg-color: #E2EBFA;\n",
              "      --hover-fill-color: #174EA6;\n",
              "      --disabled-fill-color: #AAA;\n",
              "      --disabled-bg-color: #DDD;\n",
              "  }\n",
              "\n",
              "  [theme=dark] .colab-df-quickchart {\n",
              "      --bg-color: #3B4455;\n",
              "      --fill-color: #D2E3FC;\n",
              "      --hover-bg-color: #434B5C;\n",
              "      --hover-fill-color: #FFFFFF;\n",
              "      --disabled-bg-color: #3B4455;\n",
              "      --disabled-fill-color: #666;\n",
              "  }\n",
              "\n",
              "  .colab-df-quickchart {\n",
              "    background-color: var(--bg-color);\n",
              "    border: none;\n",
              "    border-radius: 50%;\n",
              "    cursor: pointer;\n",
              "    display: none;\n",
              "    fill: var(--fill-color);\n",
              "    height: 32px;\n",
              "    padding: 0;\n",
              "    width: 32px;\n",
              "  }\n",
              "\n",
              "  .colab-df-quickchart:hover {\n",
              "    background-color: var(--hover-bg-color);\n",
              "    box-shadow: 0 1px 2px rgba(60, 64, 67, 0.3), 0 1px 3px 1px rgba(60, 64, 67, 0.15);\n",
              "    fill: var(--button-hover-fill-color);\n",
              "  }\n",
              "\n",
              "  .colab-df-quickchart-complete:disabled,\n",
              "  .colab-df-quickchart-complete:disabled:hover {\n",
              "    background-color: var(--disabled-bg-color);\n",
              "    fill: var(--disabled-fill-color);\n",
              "    box-shadow: none;\n",
              "  }\n",
              "\n",
              "  .colab-df-spinner {\n",
              "    border: 2px solid var(--fill-color);\n",
              "    border-color: transparent;\n",
              "    border-bottom-color: var(--fill-color);\n",
              "    animation:\n",
              "      spin 1s steps(1) infinite;\n",
              "  }\n",
              "\n",
              "  @keyframes spin {\n",
              "    0% {\n",
              "      border-color: transparent;\n",
              "      border-bottom-color: var(--fill-color);\n",
              "      border-left-color: var(--fill-color);\n",
              "    }\n",
              "    20% {\n",
              "      border-color: transparent;\n",
              "      border-left-color: var(--fill-color);\n",
              "      border-top-color: var(--fill-color);\n",
              "    }\n",
              "    30% {\n",
              "      border-color: transparent;\n",
              "      border-left-color: var(--fill-color);\n",
              "      border-top-color: var(--fill-color);\n",
              "      border-right-color: var(--fill-color);\n",
              "    }\n",
              "    40% {\n",
              "      border-color: transparent;\n",
              "      border-right-color: var(--fill-color);\n",
              "      border-top-color: var(--fill-color);\n",
              "    }\n",
              "    60% {\n",
              "      border-color: transparent;\n",
              "      border-right-color: var(--fill-color);\n",
              "    }\n",
              "    80% {\n",
              "      border-color: transparent;\n",
              "      border-right-color: var(--fill-color);\n",
              "      border-bottom-color: var(--fill-color);\n",
              "    }\n",
              "    90% {\n",
              "      border-color: transparent;\n",
              "      border-bottom-color: var(--fill-color);\n",
              "    }\n",
              "  }\n",
              "</style>\n",
              "\n",
              "  <script>\n",
              "    async function quickchart(key) {\n",
              "      const quickchartButtonEl =\n",
              "        document.querySelector('#' + key + ' button');\n",
              "      quickchartButtonEl.disabled = true;  // To prevent multiple clicks.\n",
              "      quickchartButtonEl.classList.add('colab-df-spinner');\n",
              "      try {\n",
              "        const charts = await google.colab.kernel.invokeFunction(\n",
              "            'suggestCharts', [key], {});\n",
              "      } catch (error) {\n",
              "        console.error('Error during call to suggestCharts:', error);\n",
              "      }\n",
              "      quickchartButtonEl.classList.remove('colab-df-spinner');\n",
              "      quickchartButtonEl.classList.add('colab-df-quickchart-complete');\n",
              "    }\n",
              "    (() => {\n",
              "      let quickchartButtonEl =\n",
              "        document.querySelector('#df-d0f705e2-70a7-4096-aa10-333c295ed094 button');\n",
              "      quickchartButtonEl.style.display =\n",
              "        google.colab.kernel.accessAllowed ? 'block' : 'none';\n",
              "    })();\n",
              "  </script>\n",
              "</div>\n",
              "\n",
              "    </div>\n",
              "  </div>\n"
            ],
            "application/vnd.google.colaboratory.intrinsic+json": {
              "type": "dataframe",
              "summary": "{\n  \"name\": \"df\",\n  \"rows\": 6,\n  \"fields\": [\n    {\n      \"column\": \"count\",\n      \"properties\": {\n        \"dtype\": \"date\",\n        \"min\": 100.0,\n        \"max\": 100.0,\n        \"num_unique_values\": 1,\n        \"samples\": [\n          100.0\n        ],\n        \"semantic_type\": \"\",\n        \"description\": \"\"\n      }\n    },\n    {\n      \"column\": \"unique\",\n      \"properties\": {\n        \"dtype\": \"date\",\n        \"min\": 2,\n        \"max\": 3,\n        \"num_unique_values\": 2,\n        \"samples\": [\n          3\n        ],\n        \"semantic_type\": \"\",\n        \"description\": \"\"\n      }\n    },\n    {\n      \"column\": \"top\",\n      \"properties\": {\n        \"dtype\": \"string\",\n        \"num_unique_values\": 4,\n        \"samples\": [\n          \"old\"\n        ],\n        \"semantic_type\": \"\",\n        \"description\": \"\"\n      }\n    },\n    {\n      \"column\": \"freq\",\n      \"properties\": {\n        \"dtype\": \"date\",\n        \"min\": \"34\",\n        \"max\": \"54\",\n        \"num_unique_values\": 3,\n        \"samples\": [\n          \"50\"\n        ],\n        \"semantic_type\": \"\",\n        \"description\": \"\"\n      }\n    },\n    {\n      \"column\": \"mean\",\n      \"properties\": {\n        \"dtype\": \"date\",\n        \"min\": 5.377800000000001,\n        \"max\": 546517.0,\n        \"num_unique_values\": 2,\n        \"samples\": [\n          5.377800000000001\n        ],\n        \"semantic_type\": \"\",\n        \"description\": \"\"\n      }\n    },\n    {\n      \"column\": \"std\",\n      \"properties\": {\n        \"dtype\": \"date\",\n        \"min\": 2.378166078933492,\n        \"max\": 52.29577884350213,\n        \"num_unique_values\": 2,\n        \"samples\": [\n          2.378166078933492\n        ],\n        \"semantic_type\": \"\",\n        \"description\": \"\"\n      }\n    },\n    {\n      \"column\": \"min\",\n      \"properties\": {\n        \"dtype\": \"date\",\n        \"min\": 0.19,\n        \"max\": 546443.0,\n        \"num_unique_values\": 2,\n        \"samples\": [\n          0.19\n        ],\n        \"semantic_type\": \"\",\n        \"description\": \"\"\n      }\n    },\n    {\n      \"column\": \"25%\",\n      \"properties\": {\n        \"dtype\": \"date\",\n        \"min\": 3.88,\n        \"max\": 546467.75,\n        \"num_unique_values\": 2,\n        \"samples\": [\n          3.88\n        ],\n        \"semantic_type\": \"\",\n        \"description\": \"\"\n      }\n    },\n    {\n      \"column\": \"50%\",\n      \"properties\": {\n        \"dtype\": \"date\",\n        \"min\": 5.415,\n        \"max\": 546492.5,\n        \"num_unique_values\": 2,\n        \"samples\": [\n          5.415\n        ],\n        \"semantic_type\": \"\",\n        \"description\": \"\"\n      }\n    },\n    {\n      \"column\": \"75%\",\n      \"properties\": {\n        \"dtype\": \"date\",\n        \"min\": 7.0225,\n        \"max\": 546567.25,\n        \"num_unique_values\": 2,\n        \"samples\": [\n          7.0225\n        ],\n        \"semantic_type\": \"\",\n        \"description\": \"\"\n      }\n    },\n    {\n      \"column\": \"max\",\n      \"properties\": {\n        \"dtype\": \"date\",\n        \"min\": 10.71,\n        \"max\": 546592.0,\n        \"num_unique_values\": 2,\n        \"samples\": [\n          10.71\n        ],\n        \"semantic_type\": \"\",\n        \"description\": \"\"\n      }\n    }\n  ]\n}"
            }
          },
          "metadata": {},
          "execution_count": 10
        }
      ]
    },
    {
      "cell_type": "code",
      "source": [
        "# Checking for missing values\n",
        "df.isnull().sum()"
      ],
      "metadata": {
        "colab": {
          "base_uri": "https://localhost:8080/"
        },
        "id": "GksfQeJxeNqk",
        "outputId": "276803e5-75c9-44ea-8f55-5f78ef64699f"
      },
      "id": "GksfQeJxeNqk",
      "execution_count": null,
      "outputs": [
        {
          "output_type": "execute_result",
          "data": {
            "text/plain": [
              "user_id                   0\n",
              "group                     0\n",
              "landing_page              0\n",
              "time_spent_on_the_page    0\n",
              "converted                 0\n",
              "language_preferred        0\n",
              "dtype: int64"
            ]
          },
          "metadata": {},
          "execution_count": 11
        }
      ]
    },
    {
      "cell_type": "markdown",
      "source": [
        "## Observation\n",
        "#### There are no missing values present in the dataset"
      ],
      "metadata": {
        "id": "W2GBOR-teWhg"
      },
      "id": "W2GBOR-teWhg"
    },
    {
      "cell_type": "code",
      "source": [
        "df.duplicated().sum()"
      ],
      "metadata": {
        "colab": {
          "base_uri": "https://localhost:8080/"
        },
        "id": "VXS3ZVd1fF_w",
        "outputId": "2d39931e-dc79-4729-b33c-2fb43026a275"
      },
      "id": "VXS3ZVd1fF_w",
      "execution_count": 13,
      "outputs": [
        {
          "output_type": "execute_result",
          "data": {
            "text/plain": [
              "0"
            ]
          },
          "metadata": {},
          "execution_count": 13
        }
      ]
    },
    {
      "cell_type": "markdown",
      "source": [
        "## Observation\n",
        "#### There are no duplicated rows in the dataset\n"
      ],
      "metadata": {
        "id": "O0-QYPssgCCI"
      },
      "id": "O0-QYPssgCCI"
    },
    {
      "cell_type": "markdown",
      "metadata": {
        "id": "9d75cfa2"
      },
      "source": [
        "## Explore the dataset and extract insights using Exploratory Data Analysis"
      ],
      "id": "9d75cfa2"
    },
    {
      "cell_type": "markdown",
      "metadata": {
        "id": "27201534"
      },
      "source": [
        "- Data Overview\n",
        "  - Viewing the first and last few rows of the dataset\n",
        "  - Checking the shape of the dataset\n",
        "  - Getting the statistical summary for the variables\n",
        "- Check for missing values\n",
        "- Check for duplicates"
      ],
      "id": "27201534"
    },
    {
      "cell_type": "markdown",
      "metadata": {
        "id": "68f3b2c9"
      },
      "source": [
        "### Univariate Analysis"
      ],
      "id": "68f3b2c9"
    },
    {
      "cell_type": "code",
      "metadata": {
        "id": "1932d0f3",
        "colab": {
          "base_uri": "https://localhost:8080/",
          "height": 465
        },
        "outputId": "89724016-f8ba-4b75-b4a4-a71fcf658674"
      },
      "source": [
        "# Obtaining the count plot of the group column\n",
        "plt.figure(figsize = (6,5))\n",
        "sns.countplot(data = df, x = 'group')\n",
        "plt.show()\n"
      ],
      "id": "1932d0f3",
      "execution_count": null,
      "outputs": [
        {
          "output_type": "display_data",
          "data": {
            "text/plain": [
              "<Figure size 600x500 with 1 Axes>"
            ],
            "image/png": "[encoded data removed]"
          },
          "metadata": {}
        }
      ]
    },
    {
      "cell_type": "code",
      "source": [
        "# Obtaining the numbers in each group i.e. the control and treatment groups\n",
        "df['group'].value_counts()"
      ],
      "metadata": {
        "colab": {
          "base_uri": "https://localhost:8080/"
        },
        "id": "D8XLIxC4i1qb",
        "outputId": "912482fb-aacf-411f-985e-88c99a14f4de"
      },
      "id": "D8XLIxC4i1qb",
      "execution_count": null,
      "outputs": [
        {
          "output_type": "execute_result",
          "data": {
            "text/plain": [
              "group\n",
              "control      50\n",
              "treatment    50\n",
              "Name: count, dtype: int64"
            ]
          },
          "metadata": {},
          "execution_count": 26
        }
      ]
    },
    {
      "cell_type": "markdown",
      "source": [
        "##Observation\n",
        "#### It will be observed that both the control and treatment groups have the same value (50) which is in tandem with what was stated in the problem statement"
      ],
      "metadata": {
        "id": "1asWX_BWjLGc"
      },
      "id": "1asWX_BWjLGc"
    },
    {
      "cell_type": "code",
      "source": [
        "# Obtaining the plot for the landing page data\n",
        "plt.figure(figsize = (6,5))\n",
        "sns.countplot(data = df, x = 'landing_page')\n",
        "plt.show()"
      ],
      "metadata": {
        "colab": {
          "base_uri": "https://localhost:8080/",
          "height": 465
        },
        "id": "jDoNM1C6jyUt",
        "outputId": "7daae642-d744-416b-d89b-14f4bd478fd0"
      },
      "id": "jDoNM1C6jyUt",
      "execution_count": null,
      "outputs": [
        {
          "output_type": "display_data",
          "data": {
            "text/plain": [
              "<Figure size 600x500 with 1 Axes>"
            ],
            "image/png": "[encoded data removed]"
          },
          "metadata": {}
        }
      ]
    },
    {
      "cell_type": "code",
      "source": [
        "# Obtaining the number of the oil and new landing page\n",
        "df['landing_page'].value_counts()"
      ],
      "metadata": {
        "colab": {
          "base_uri": "https://localhost:8080/"
        },
        "id": "wjzxDBFpkZwH",
        "outputId": "7504f6c8-bded-430f-c287-cfa5480e5eb1"
      },
      "id": "wjzxDBFpkZwH",
      "execution_count": null,
      "outputs": [
        {
          "output_type": "execute_result",
          "data": {
            "text/plain": [
              "landing_page\n",
              "old    50\n",
              "new    50\n",
              "Name: count, dtype: int64"
            ]
          },
          "metadata": {},
          "execution_count": 29
        }
      ]
    },
    {
      "cell_type": "markdown",
      "source": [
        "##Observation\n",
        "####The number of the users that visits both the old and new landing page are the same."
      ],
      "metadata": {
        "id": "XjIluux2k7vJ"
      },
      "id": "XjIluux2k7vJ"
    },
    {
      "cell_type": "code",
      "source": [
        "# Plot of the histogram showing the distribution of the time spent on the page by subscribers\n",
        "plt.figure(figsize = (10,5))\n",
        "sns.histplot(data = df, x = 'time_spent_on_the_page', kde = True)\n",
        "plt.show()\n",
        "sns.boxplot(data = df, x = 'time_spent_on_the_page')\n",
        "plt.show()\n"
      ],
      "metadata": {
        "colab": {
          "base_uri": "https://localhost:8080/",
          "height": 898
        },
        "id": "a4cp0ACs9Y2_",
        "outputId": "5c6d0ff5-acb8-4785-ff87-1f566d3218c8"
      },
      "id": "a4cp0ACs9Y2_",
      "execution_count": null,
      "outputs": [
        {
          "output_type": "display_data",
          "data": {
            "text/plain": [
              "<Figure size 1000x500 with 1 Axes>"
            ],
            "image/png": "[encoded data removed]"
          },
          "metadata": {}
        },
        {
          "output_type": "display_data",
          "data": {
            "text/plain": [
              "<Figure size 640x480 with 1 Axes>"
            ],
            "image/png": "[encoded data removed]"
          },
          "metadata": {}
        }
      ]
    },
    {
      "cell_type": "markdown",
      "source": [
        "##Observation\n",
        "####The data for the time_spent_on_the_page appears to follow a normal distribution. The number of subscribers that spent about 5 minutes on the page appears to be the highest (about 30) and closely followed by those that spent 6 minutes on the page.\n",
        "####The overall time spent on the page ranged from slightly above zero to a little above 10 minutes with a median at over 5 minutes. There are no outliers observed."
      ],
      "metadata": {
        "id": "rD8cEuRR-eg6"
      },
      "id": "rD8cEuRR-eg6"
    },
    {
      "cell_type": "code",
      "source": [
        "# Plot showing the numbers of the converted subscribers\n",
        "plt.figure(figsize=(7,5))\n",
        "sns.countplot(data = df, x = 'converted')\n",
        "plt.show()"
      ],
      "metadata": {
        "colab": {
          "base_uri": "https://localhost:8080/",
          "height": 465
        },
        "id": "cag5pepv_4S1",
        "outputId": "dd8fe82a-5835-4de3-a51b-6752fc55a84c"
      },
      "id": "cag5pepv_4S1",
      "execution_count": null,
      "outputs": [
        {
          "output_type": "display_data",
          "data": {
            "text/plain": [
              "<Figure size 700x500 with 1 Axes>"
            ],
            "image/png": "[encoded data removed]"
          },
          "metadata": {}
        }
      ]
    },
    {
      "cell_type": "code",
      "source": [
        "# code to produce the number of subscribers that are converted or not.\n",
        "df['converted'].value_counts(normalize = True)\n"
      ],
      "metadata": {
        "colab": {
          "base_uri": "https://localhost:8080/"
        },
        "id": "qgKTKAndBUAT",
        "outputId": "16d44c0c-0085-467a-a49b-4de7014e0b4f"
      },
      "id": "qgKTKAndBUAT",
      "execution_count": null,
      "outputs": [
        {
          "output_type": "execute_result",
          "data": {
            "text/plain": [
              "converted\n",
              "yes    0.54\n",
              "no     0.46\n",
              "Name: proportion, dtype: float64"
            ]
          },
          "metadata": {},
          "execution_count": 39
        }
      ]
    },
    {
      "cell_type": "markdown",
      "source": [
        "##Observations\n",
        "#### From the number of users that visited the landing page, 54% were converted to subscribers while 46% were not."
      ],
      "metadata": {
        "id": "OZRpaZvfB5NI"
      },
      "id": "OZRpaZvfB5NI"
    },
    {
      "cell_type": "code",
      "source": [
        "# Plot showing the languages preferred by the users\n",
        "plt.figure(figsize = (7,5))\n",
        "sns.countplot(data = df, x = 'language_preferred')\n",
        "plt.show()"
      ],
      "metadata": {
        "colab": {
          "base_uri": "https://localhost:8080/",
          "height": 465
        },
        "id": "zbGUnpedElXG",
        "outputId": "e2cef9d5-7e03-4764-c266-c5ad66b99383"
      },
      "id": "zbGUnpedElXG",
      "execution_count": null,
      "outputs": [
        {
          "output_type": "display_data",
          "data": {
            "text/plain": [
              "<Figure size 700x500 with 1 Axes>"
            ],
            "image/png": "[encoded data removed]"
          },
          "metadata": {}
        }
      ]
    },
    {
      "cell_type": "code",
      "source": [
        "#code that displays the distribution of the languages preferred by the users.\n",
        "df['language_preferred'].value_counts()"
      ],
      "metadata": {
        "colab": {
          "base_uri": "https://localhost:8080/"
        },
        "id": "vZZeLZjdFGD6",
        "outputId": "4e92aa09-180b-4e91-ac49-3f2b06a743ad"
      },
      "id": "vZZeLZjdFGD6",
      "execution_count": null,
      "outputs": [
        {
          "output_type": "execute_result",
          "data": {
            "text/plain": [
              "language_preferred\n",
              "Spanish    34\n",
              "French     34\n",
              "English    32\n",
              "Name: count, dtype: int64"
            ]
          },
          "metadata": {},
          "execution_count": 41
        }
      ]
    },
    {
      "cell_type": "markdown",
      "source": [
        "##Observations\n",
        "####It will be observed both from the chart and the code that users have an equal preferences for both Spanish and French languages while the English Language is the least language preferred by the users."
      ],
      "metadata": {
        "id": "6C4pUiP1FXLZ"
      },
      "id": "6C4pUiP1FXLZ"
    },
    {
      "cell_type": "markdown",
      "metadata": {
        "id": "fad2de2f"
      },
      "source": [
        "### Bivariate Analysis"
      ],
      "id": "fad2de2f"
    },
    {
      "cell_type": "markdown",
      "source": [
        "## Relationship between the Conversion status and Time spent on the page"
      ],
      "metadata": {
        "id": "GHGv9POHGVYO"
      },
      "id": "GHGv9POHGVYO"
    },
    {
      "cell_type": "code",
      "metadata": {
        "id": "58e9a1d0",
        "colab": {
          "base_uri": "https://localhost:8080/",
          "height": 465
        },
        "outputId": "9ea2bb1e-c411-4c6e-d074-54e8ab10ea71"
      },
      "source": [
        "plt.figure(figsize=(10, 5))\n",
        "sns.boxplot(data = df, x = 'converted', y = 'time_spent_on_the_page')\n",
        "plt.show()"
      ],
      "id": "58e9a1d0",
      "execution_count": null,
      "outputs": [
        {
          "output_type": "display_data",
          "data": {
            "text/plain": [
              "<Figure size 1000x500 with 1 Axes>"
            ],
            "image/png": "[encoded data removed]"
          },
          "metadata": {}
        }
      ]
    },
    {
      "cell_type": "markdown",
      "source": [
        "##Observations\n",
        "####It will be observed that there is a relationship between the users that were converted to subscribers and those that were not and the corresponding time they spent on the page. Most of the summary statistics (i.e the minimum, 25% quartile, Median, 75% quartile and the maximum) for the 'Yes' group were higher than the 'No' group and therefore it is no surprising that the users in the 'Yes' group were converted to subscribers. Also, outliers were observed in both groups."
      ],
      "metadata": {
        "id": "ccDPHf4LHUij"
      },
      "id": "ccDPHf4LHUij"
    },
    {
      "cell_type": "markdown",
      "source": [
        "## Relationship between the Landing Page and Time spent on the page"
      ],
      "metadata": {
        "id": "yfX4jmJYIzuJ"
      },
      "id": "yfX4jmJYIzuJ"
    },
    {
      "cell_type": "code",
      "source": [
        "plt.figure(figsize=(10, 5))\n",
        "sns.boxplot(data = df, x = 'landing_page', y = 'time_spent_on_the_page')\n",
        "plt.show()"
      ],
      "metadata": {
        "colab": {
          "base_uri": "https://localhost:8080/",
          "height": 465
        },
        "id": "qgPF_463IyPU",
        "outputId": "2c85920e-a3ae-4c52-9513-f1f39a5109a9"
      },
      "id": "qgPF_463IyPU",
      "execution_count": null,
      "outputs": [
        {
          "output_type": "display_data",
          "data": {
            "text/plain": [
              "<Figure size 1000x500 with 1 Axes>"
            ],
            "image/png": "[encoded data removed]"
          },
          "metadata": {}
        }
      ]
    },
    {
      "cell_type": "markdown",
      "source": [
        "##Observations\n",
        "#### It will be observed that the summary statistics as revealed by the boxplots which includes the minimum, 25% quartile, the median and the 75% quartile of the time spent by the users on the new landing page were all higher than their corresponding values spent by the users on the oil landing page. Also a number of outliers were observed for the users visiting the new landing page"
      ],
      "metadata": {
        "id": "lKdhwLOdJ6Q-"
      },
      "id": "lKdhwLOdJ6Q-"
    },
    {
      "cell_type": "markdown",
      "source": [
        "## Relationship between the Language preference and Time spent on the page"
      ],
      "metadata": {
        "id": "T1fckOHeLDHq"
      },
      "id": "T1fckOHeLDHq"
    },
    {
      "cell_type": "code",
      "source": [
        "plt.figure(figsize=(10, 5))\n",
        "sns.boxplot(data = df, x = 'language_preferred', y = 'time_spent_on_the_page')\n",
        "plt.show()"
      ],
      "metadata": {
        "colab": {
          "base_uri": "https://localhost:8080/",
          "height": 465
        },
        "id": "kPWz3x11LMVd",
        "outputId": "e1696ca2-4175-4f1b-d20f-f60a2a0a3078"
      },
      "id": "kPWz3x11LMVd",
      "execution_count": null,
      "outputs": [
        {
          "output_type": "display_data",
          "data": {
            "text/plain": [
              "<Figure size 1000x500 with 1 Axes>"
            ],
            "image/png": "[encoded data removed]"
          },
          "metadata": {}
        }
      ]
    },
    {
      "cell_type": "markdown",
      "source": [
        "##Observations\n",
        "####It will be observed that the median time spent on the page by the users that have a preference for Spanish language and English language are almost the same whereas it is slightly lower for the users that prefer the French language. Also, the summary statistics shown on the boxplot (minimum, 25% quartile, median, 75% quartile and maximum) for the users preferring English Language and French language are almost the same except that the median is slightly lower for the users that prefer French language. Also, an outlier was only observed for the users that prefer the Spanish language."
      ],
      "metadata": {
        "id": "7l5n7TD2LeL8"
      },
      "id": "7l5n7TD2LeL8"
    },
    {
      "cell_type": "markdown",
      "source": [
        "## Relationship between the Group and Time spent on the page"
      ],
      "metadata": {
        "id": "Ogr-gToyNGle"
      },
      "id": "Ogr-gToyNGle"
    },
    {
      "cell_type": "code",
      "source": [
        "plt.figure(figsize=(10, 5))\n",
        "sns.boxplot(data = df, x = 'group', y = 'time_spent_on_the_page')\n",
        "plt.show()"
      ],
      "metadata": {
        "colab": {
          "base_uri": "https://localhost:8080/",
          "height": 465
        },
        "id": "IKa3fOTIM8pb",
        "outputId": "97393758-97c3-4bec-b01b-433f47a4f308"
      },
      "id": "IKa3fOTIM8pb",
      "execution_count": null,
      "outputs": [
        {
          "output_type": "display_data",
          "data": {
            "text/plain": [
              "<Figure size 1000x500 with 1 Axes>"
            ],
            "image/png": "[encoded data removed]"
          },
          "metadata": {}
        }
      ]
    },
    {
      "cell_type": "markdown",
      "source": [
        "##Observation\n",
        "####It will be observed that the median time spent on the page for the users under the treatment group is higher than the median time spent on the page for the users under the control group. A number of outliers were also observed for the users under the treatment group."
      ],
      "metadata": {
        "id": "PJYoa6E6NQJ-"
      },
      "id": "PJYoa6E6NQJ-"
    },
    {
      "cell_type": "markdown",
      "metadata": {
        "id": "27906576"
      },
      "source": [
        "## 1. Do the users spend more time on the new landing page than the existing landing page?"
      ],
      "id": "27906576"
    },
    {
      "cell_type": "markdown",
      "metadata": {
        "id": "e5fdf0c8"
      },
      "source": [
        "### Perform Visual Analysis"
      ],
      "id": "e5fdf0c8"
    },
    {
      "cell_type": "code",
      "metadata": {
        "id": "6eZJa41eg21n",
        "colab": {
          "base_uri": "https://localhost:8080/",
          "height": 619
        },
        "outputId": "2f6bd143-55c3-4f44-cc26-7664381573b2"
      },
      "source": [
        "plt.figure(figsize=(10,7))\n",
        "sns.boxplot(data = df, x = 'landing_page', y = 'time_spent_on_the_page')\n",
        "plt.show()"
      ],
      "id": "6eZJa41eg21n",
      "execution_count": null,
      "outputs": [
        {
          "output_type": "display_data",
          "data": {
            "text/plain": [
              "<Figure size 1000x700 with 1 Axes>"
            ],
            "image/png": "[encoded data removed]"
          },
          "metadata": {}
        }
      ]
    },
    {
      "cell_type": "code",
      "source": [
        "df.groupby('landing_page')['time_spent_on_the_page'].sum()\n",
        "#The codes groups the users according to those that visits the oil and new landing page and then sums the total time spent by the users\n"
      ],
      "metadata": {
        "colab": {
          "base_uri": "https://localhost:8080/"
        },
        "id": "IhSjBwEsOvaW",
        "outputId": "73780ae4-5281-4b85-9856-b6370545d00f"
      },
      "id": "IhSjBwEsOvaW",
      "execution_count": null,
      "outputs": [
        {
          "output_type": "execute_result",
          "data": {
            "text/plain": [
              "landing_page\n",
              "new    311.16\n",
              "old    226.62\n",
              "Name: time_spent_on_the_page, dtype: float64"
            ]
          },
          "metadata": {},
          "execution_count": 51
        }
      ]
    },
    {
      "cell_type": "markdown",
      "source": [
        "##Observations\n",
        "####From both the chart and the codes above, it clearly shows that the users spent more time in the new page compared to the old page. For instance, the median time spent by the users on the new page is greater than the median time spent by the users on the old page. Also, in total, the users spent about 311.16 minutes (about 5 hrs) on the new page as against 226.62 minutes (about 4 minutes) on the old page. However further statistical analysis will be carried out to conclusively give an answer to the question."
      ],
      "metadata": {
        "id": "ehcUaXrXRL3g"
      },
      "id": "ehcUaXrXRL3g"
    },
    {
      "cell_type": "markdown",
      "source": [
        "##Step 1: Define the null and alternate hypotheses"
      ],
      "metadata": {
        "id": "JZR4L89_Qs_z"
      },
      "id": "JZR4L89_Qs_z"
    },
    {
      "cell_type": "markdown",
      "source": [
        "####H0 :T_nlp <= T_olp\n",
        "\n",
        "####Ha :T_nlp > T_olp\n",
        "####where T_nlp is the time spent by users on the new landing page\n",
        "####where T_olp is the time spent by users on the new landing page"
      ],
      "metadata": {
        "id": "667sYNaiQwL6"
      },
      "id": "667sYNaiQwL6"
    },
    {
      "cell_type": "markdown",
      "source": [
        "##Step 2: Select Appropriate test"
      ],
      "metadata": {
        "id": "6AOQbmV1SkF9"
      },
      "id": "6AOQbmV1SkF9"
    },
    {
      "cell_type": "markdown",
      "source": [
        "####Since two independent samples were taken, it means that 2 samples means can be obtained from the 2 populations. And since the variance of the populations are not known, the appropriate test to use will be the **one-tailed,2 samples(independent) T-test.**\n",
        "####The time spent on the landing page is a continuous data, Population is normally distributed, samples are from two-independent populations and finally the users were selected randomly"
      ],
      "metadata": {
        "id": "Lqefw2zoSncd"
      },
      "id": "Lqefw2zoSncd"
    },
    {
      "cell_type": "markdown",
      "source": [
        "##Step 3: Decide the significance level"
      ],
      "metadata": {
        "id": "2FlQ8R6iT5yE"
      },
      "id": "2FlQ8R6iT5yE"
    },
    {
      "cell_type": "markdown",
      "source": [
        "####In the problem statement, the level of significance was given as  α=0.05 ."
      ],
      "metadata": {
        "id": "GYhqD1AQT-Dd"
      },
      "id": "GYhqD1AQT-Dd"
    },
    {
      "cell_type": "markdown",
      "source": [
        "##Step 4: Collect and prepare data"
      ],
      "metadata": {
        "id": "HlKphirmUO5i"
      },
      "id": "HlKphirmUO5i"
    },
    {
      "cell_type": "code",
      "source": [
        "# In order to calculate the sample mean and standard deviation of the time the users spent on the new and old landing page,\n",
        "#separate datasets will have to be created for the two variables.\n",
        "time_spent_new = df[df['landing_page'] == 'new']['time_spent_on_the_page']\n",
        "# The code above creates a new dataset containing the time spent by the users on the new landing page\n",
        "\n",
        "time_spent_old = df[df['landing_page'] == 'old']['time_spent_on_the_page']\n",
        "# The code above creates a new dataset containing the time spent by the users on the new landing page"
      ],
      "metadata": {
        "id": "-v5db9kPUlBm"
      },
      "id": "-v5db9kPUlBm",
      "execution_count": null,
      "outputs": []
    },
    {
      "cell_type": "code",
      "source": [
        "# Calculate the standard deviation on the time spent by the users in both the new and old landing pages\n",
        "print('The sample standard deviation of the time spent on the new page is:', round(time_spent_new.std(),2))\n",
        "print('The sample standard deviation of the time spent on the old page is:', round(time_spent_old.std(),2))"
      ],
      "metadata": {
        "id": "j7ot0lGlV07V",
        "colab": {
          "base_uri": "https://localhost:8080/"
        },
        "outputId": "557cb47b-d6dc-4f56-e1e1-c91506151772"
      },
      "id": "j7ot0lGlV07V",
      "execution_count": null,
      "outputs": [
        {
          "output_type": "stream",
          "name": "stdout",
          "text": [
            "The sample standard deviation of the time spent on the new page is: 1.82\n",
            "The sample standard deviation of the time spent on the old page is: 2.58\n"
          ]
        }
      ]
    },
    {
      "cell_type": "markdown",
      "source": [
        "##Observation\n",
        "####Based on the values of the standard deviation of the two samples where the standard deviation of the time spent by the users on the old page is almost twice the time that the users spent on the new page, it can be assumed that the population standard deviation are not equal."
      ],
      "metadata": {
        "id": "nE0XcA8FN3aQ"
      },
      "id": "nE0XcA8FN3aQ"
    },
    {
      "cell_type": "markdown",
      "source": [
        "##Step 5: Calculate the p value"
      ],
      "metadata": {
        "id": "CRpKBAUfTIP4"
      },
      "id": "CRpKBAUfTIP4"
    },
    {
      "cell_type": "code",
      "source": [
        "#import the required functions\n",
        "from scipy.stats import ttest_ind\n",
        "# code to calculate the p-value and test_stat\n",
        "test_stat, p_value = ttest_ind(time_spent_new, time_spent_old, equal_var = False, alternative ='greater')\n",
        "\n",
        "print('The p-value is', p_value)"
      ],
      "metadata": {
        "colab": {
          "base_uri": "https://localhost:8080/"
        },
        "id": "sZvlV0LMTIzU",
        "outputId": "e00bc5e7-a8fd-4e17-a68b-6b174269e2ca"
      },
      "id": "sZvlV0LMTIzU",
      "execution_count": null,
      "outputs": [
        {
          "output_type": "stream",
          "name": "stdout",
          "text": [
            "The p-value is 0.0001392381225166549\n"
          ]
        }
      ]
    },
    {
      "cell_type": "markdown",
      "source": [
        "##Step 6: Compare the p-value with  α"
      ],
      "metadata": {
        "id": "ttuCbU_kUPk_"
      },
      "id": "ttuCbU_kUPk_"
    },
    {
      "cell_type": "code",
      "source": [
        "# print the conclusion based on p-value\n",
        "if p_value < 0.05:\n",
        "    print(f'As the p-value {p_value} is less than the level of significance, we reject the null hypothesis.')\n",
        "else:\n",
        "    print(f'As the p-value {p_value} is greater than the level of significance, we fail to reject the null hypothesis.')"
      ],
      "metadata": {
        "colab": {
          "base_uri": "https://localhost:8080/"
        },
        "id": "i4863CWMUTIv",
        "outputId": "5784dbc4-49fa-4765-8277-3424a1db2ba3"
      },
      "id": "i4863CWMUTIv",
      "execution_count": null,
      "outputs": [
        {
          "output_type": "stream",
          "name": "stdout",
          "text": [
            "As the p-value 0.0001392381225166549 is less than the level of significance, we reject the null hypothesis.\n"
          ]
        }
      ]
    },
    {
      "cell_type": "markdown",
      "source": [
        "##Step 7: Draw inference"
      ],
      "metadata": {
        "id": "cS9rO0t8U3mT"
      },
      "id": "cS9rO0t8U3mT"
    },
    {
      "cell_type": "markdown",
      "source": [
        "##Insight\n",
        "####As the p-value (~0.000139) is less than the level of significance, we can reject the null hypothesis. Hence, we do have enough evidence to support the claim that the users spend more time on the new landing page than on the old or existing landing page and this also confirms the result of the visual analysis earlier performed and also the result from the code."
      ],
      "metadata": {
        "id": "ZgNNQeMLU8Lk"
      },
      "id": "ZgNNQeMLU8Lk"
    },
    {
      "cell_type": "markdown",
      "metadata": {
        "id": "353e9d24"
      },
      "source": [
        "## 2. Is the conversion rate (the proportion of users who visit the landing page and get converted) for the new page greater than the conversion rate for the old page?"
      ],
      "id": "353e9d24"
    },
    {
      "cell_type": "code",
      "metadata": {
        "id": "b7f52898",
        "colab": {
          "base_uri": "https://localhost:8080/"
        },
        "outputId": "85d278ac-1ce8-4b9e-be34-70ee7eb820b2"
      },
      "source": [
        "# Code that will give the proportion of users who visits both the old and new landing pages and gets converted or not.\n",
        "df.groupby('landing_page')['converted'].value_counts(normalize=True)"
      ],
      "id": "b7f52898",
      "execution_count": null,
      "outputs": [
        {
          "output_type": "execute_result",
          "data": {
            "text/plain": [
              "landing_page  converted\n",
              "new           yes          0.66\n",
              "              no           0.34\n",
              "old           no           0.58\n",
              "              yes          0.42\n",
              "Name: proportion, dtype: float64"
            ]
          },
          "metadata": {},
          "execution_count": 29
        }
      ]
    },
    {
      "cell_type": "markdown",
      "source": [
        "##Observation\n",
        "####It will be observed that 66% of the users who visits the new landing page gets converted and become subscribers as against 58% conversion of users who visited the old landing page. However, this assertion will be further tested using statistical analysis."
      ],
      "metadata": {
        "id": "8_SmZEtHclkt"
      },
      "id": "8_SmZEtHclkt"
    },
    {
      "cell_type": "markdown",
      "source": [
        "##Visual Analysis"
      ],
      "metadata": {
        "id": "W-0KiuRUdV7Y"
      },
      "id": "W-0KiuRUdV7Y"
    },
    {
      "cell_type": "code",
      "source": [
        "pd.crosstab(df['landing_page'],df['converted'],normalize='index').plot(kind=\"bar\", figsize=(6,8),stacked=True)\n",
        "# This code will give a stack plot showing the conversion rate of users who visited the new and old landing pages\n",
        "plt.legend()\n",
        "plt.show()"
      ],
      "metadata": {
        "colab": {
          "base_uri": "https://localhost:8080/",
          "height": 711
        },
        "id": "z1dcKh7NdabW",
        "outputId": "5c47f7bb-8541-41ff-f96e-c0bbc174801d"
      },
      "id": "z1dcKh7NdabW",
      "execution_count": null,
      "outputs": [
        {
          "output_type": "display_data",
          "data": {
            "text/plain": [
              "<Figure size 600x800 with 1 Axes>"
            ],
            "image/png": "[encoded data removed]"
          },
          "metadata": {}
        }
      ]
    },
    {
      "cell_type": "markdown",
      "source": [
        "##Observation\n",
        "####It can be clearly seen from the chart that the proportion of users who visited the new landing page and are converted (orange colour) is significantly greater than the conversion rate of the users who visited the old landing page"
      ],
      "metadata": {
        "id": "B7Z0gXXreAGn"
      },
      "id": "B7Z0gXXreAGn"
    },
    {
      "cell_type": "markdown",
      "source": [
        "##Step 1: Define the null and alternate hypotheses"
      ],
      "metadata": {
        "id": "hLNikfW5fFcc"
      },
      "id": "hLNikfW5fFcc"
    },
    {
      "cell_type": "markdown",
      "source": [
        "####H0: CR_N <= CR_O\n",
        "\n",
        "####Ha: CR_N > CR_O\n",
        "####where\n",
        "####CR_N = Conversion rate for the users visiting the new landing page\n",
        "####CR_O = Conversion rate for users vising the old landing page"
      ],
      "metadata": {
        "id": "UKB9w0ZOfNXW"
      },
      "id": "UKB9w0ZOfNXW"
    },
    {
      "cell_type": "markdown",
      "source": [
        "##Step 2: Select Appropriate test"
      ],
      "metadata": {
        "id": "M7lOUyA6hNEg"
      },
      "id": "M7lOUyA6hNEg"
    },
    {
      "cell_type": "markdown",
      "source": [
        "####This is a one-tailed test concerning two population proportions from two independent populations, therefore the **two proportion z-test** will be used."
      ],
      "metadata": {
        "id": "0v9HQUKEhOyT"
      },
      "id": "0v9HQUKEhOyT"
    },
    {
      "cell_type": "markdown",
      "source": [
        "##Step 3: Decide the significance level"
      ],
      "metadata": {
        "id": "kdUQYnbbj1UU"
      },
      "id": "kdUQYnbbj1UU"
    },
    {
      "cell_type": "markdown",
      "source": [
        "#### As stated in the problem statement, we select α = 0.05."
      ],
      "metadata": {
        "id": "oEfGeV0nj30S"
      },
      "id": "oEfGeV0nj30S"
    },
    {
      "cell_type": "markdown",
      "source": [
        "##Step 4: Collect and prepare data"
      ],
      "metadata": {
        "id": "RDdygKPKkhN4"
      },
      "id": "RDdygKPKkhN4"
    },
    {
      "cell_type": "code",
      "source": [
        "# calculate the number of converted users in the treatment group\n",
        "new_converted = df[df['group'] == 'treatment']['converted'].value_counts()['yes']\n",
        "# calculate the number of converted users in the control group\n",
        "old_converted = df[df['group'] == 'control']['converted'].value_counts()['yes'] # complete your code here\n",
        "\n",
        "n_control = df['group'].value_counts()['control'] # total number of users in the control group\n",
        "n_treatment = df.group.value_counts()['treatment'] # total number of users in the treatment group\n",
        "\n",
        "print('The numbers of users served the new and old pages are {0} and {1} respectively'.format(n_control, n_treatment ))"
      ],
      "metadata": {
        "colab": {
          "base_uri": "https://localhost:8080/"
        },
        "id": "SqRUz3KWkcUz",
        "outputId": "86029e53-5d10-4714-8648-b5266ad5818c"
      },
      "id": "SqRUz3KWkcUz",
      "execution_count": null,
      "outputs": [
        {
          "output_type": "stream",
          "name": "stdout",
          "text": [
            "The numbers of users served the new and old pages are 50 and 50 respectively\n"
          ]
        }
      ]
    },
    {
      "cell_type": "markdown",
      "source": [
        "##Step 5: Calculate the p-value"
      ],
      "metadata": {
        "id": "pGhJ3IS0oLzV"
      },
      "id": "pGhJ3IS0oLzV"
    },
    {
      "cell_type": "code",
      "source": [
        "# complete the code to import the required function\n",
        "from statsmodels.stats.proportion import proportions_ztest\n",
        "\n",
        "# write the code to calculate the p-value\n",
        "test_stat, p_value = proportions_ztest([new_converted, old_converted] , [n_treatment, n_control], alternative ='larger')\n",
        "\n",
        "\n",
        "print('The p-value is', p_value)"
      ],
      "metadata": {
        "colab": {
          "base_uri": "https://localhost:8080/"
        },
        "id": "KYwGHhLcoOQ4",
        "outputId": "4f1d0b8b-b883-49ff-c975-77983537904c"
      },
      "id": "KYwGHhLcoOQ4",
      "execution_count": null,
      "outputs": [
        {
          "output_type": "stream",
          "name": "stdout",
          "text": [
            "The p-value is 0.008026308204056278\n"
          ]
        }
      ]
    },
    {
      "cell_type": "markdown",
      "source": [
        "##Step 6: Compare the p-value with  α"
      ],
      "metadata": {
        "id": "kO-_t-hcp-Gl"
      },
      "id": "kO-_t-hcp-Gl"
    },
    {
      "cell_type": "markdown",
      "source": [
        "##Insight\n",
        "####As the p-value (~0.00803) is less than the level of significance (0.05), we can reject the null hypothesis. Hence, we do have enough statistical evidence to support the claim that the conversion rate for the users who visited the new landing page is greater than the converstion rate of the users who visited the old landing page. This is also a confirmation from the assertion stated earlier that 66% of the users who visited the new landing page gets converted to subscribers as against 58% who visited the old landing page. This claim is also corroborated with the visual representation on the bar graph."
      ],
      "metadata": {
        "id": "XoPb4tw-qAgK"
      },
      "id": "XoPb4tw-qAgK"
    },
    {
      "cell_type": "markdown",
      "metadata": {
        "id": "d49bfa2d"
      },
      "source": [
        "## 3. Is the conversion and preferred language are independent or related?"
      ],
      "id": "d49bfa2d"
    },
    {
      "cell_type": "code",
      "metadata": {
        "id": "b0e63f17",
        "colab": {
          "base_uri": "https://localhost:8080/",
          "height": 737
        },
        "outputId": "5911d98c-d40c-4304-d9e7-711c646035b5"
      },
      "source": [
        "# code to visually plot the dependency between conversion status and preferred langauge\n",
        "pd.crosstab(df['language_preferred'],df['converted'],normalize='index').plot(kind=\"bar\", figsize=(6,8), stacked=True)\n",
        "plt.legend()\n",
        "plt.show()"
      ],
      "id": "b0e63f17",
      "execution_count": 14,
      "outputs": [
        {
          "output_type": "display_data",
          "data": {
            "text/plain": [
              "<Figure size 600x800 with 1 Axes>"
            ],
            "image/png": "[encoded data removed]"
          },
          "metadata": {}
        }
      ]
    },
    {
      "cell_type": "markdown",
      "source": [
        "##Observation\n",
        "####From the chart, it will be noted that the conversion and the preferred language are related because it seems that the users that are converted prefers English language more than all the languages with French language the least preferred."
      ],
      "metadata": {
        "id": "Mbw9U3Hot8Bh"
      },
      "id": "Mbw9U3Hot8Bh"
    },
    {
      "cell_type": "markdown",
      "source": [
        "##Step 1: Define the null and alternate hypotheses"
      ],
      "metadata": {
        "id": "VPqwEm2-t9kJ"
      },
      "id": "VPqwEm2-t9kJ"
    },
    {
      "cell_type": "markdown",
      "metadata": {
        "id": "q86NUDAZLnbR"
      },
      "source": [
        "$H_0:$ Conversion rate and preferred language are dependent\n",
        "\n",
        "$H_a:$ Conversion rate and preferred language are independent\n",
        "\n"
      ],
      "id": "q86NUDAZLnbR"
    },
    {
      "cell_type": "markdown",
      "source": [
        "##Step 2: Select Appropriate test"
      ],
      "metadata": {
        "id": "rphLNyJEv_yV"
      },
      "id": "rphLNyJEv_yV"
    },
    {
      "cell_type": "markdown",
      "source": [
        "####This is a problem of the test of independence, concerning two categorical variables - converted status and preferred language. Also, since the number of observations in each category is greater than 5 and the samples are randomly selected, then the appropriate test to be selected is the **Chi-Square test for independence**"
      ],
      "metadata": {
        "id": "CEfmND3VwRDy"
      },
      "id": "CEfmND3VwRDy"
    },
    {
      "cell_type": "markdown",
      "source": [
        "##Step 3: Decide the significance level"
      ],
      "metadata": {
        "id": "N6ukkbJix1zB"
      },
      "id": "N6ukkbJix1zB"
    },
    {
      "cell_type": "markdown",
      "source": [
        "As given in the problem statement, we select α = 0.05."
      ],
      "metadata": {
        "id": "im1TvjVpx3Vt"
      },
      "id": "im1TvjVpx3Vt"
    },
    {
      "cell_type": "markdown",
      "source": [
        "##Step 4: Collect and prepare data"
      ],
      "metadata": {
        "id": "AR_QQK0ayIIM"
      },
      "id": "AR_QQK0ayIIM"
    },
    {
      "cell_type": "code",
      "source": [
        "# complete the code to create a contingency table showing the distribution of the two categorical variables\n",
        "contingency_table = pd.crosstab(df['converted'], df['language_preferred'])\n",
        "\n",
        "contingency_table"
      ],
      "metadata": {
        "colab": {
          "base_uri": "https://localhost:8080/",
          "height": 143
        },
        "id": "OzDX6VIDy1_u",
        "outputId": "d089ea8b-7f52-4642-8e33-40e086962cfe"
      },
      "id": "OzDX6VIDy1_u",
      "execution_count": null,
      "outputs": [
        {
          "output_type": "execute_result",
          "data": {
            "text/plain": [
              "language_preferred  English  French  Spanish\n",
              "converted                                   \n",
              "no                       11      19       16\n",
              "yes                      21      15       18"
            ],
            "text/html": [
              "\n",
              "  <div id=\"df-48eded8e-9591-4830-90d5-25080736fe73\" class=\"colab-df-container\">\n",
              "    <div>\n",
              "<style scoped>\n",
              "    .dataframe tbody tr th:only-of-type {\n",
              "        vertical-align: middle;\n",
              "    }\n",
              "\n",
              "    .dataframe tbody tr th {\n",
              "        vertical-align: top;\n",
              "    }\n",
              "\n",
              "    .dataframe thead th {\n",
              "        text-align: right;\n",
              "    }\n",
              "</style>\n",
              "<table border=\"1\" class=\"dataframe\">\n",
              "  <thead>\n",
              "    <tr style=\"text-align: right;\">\n",
              "      <th>language_preferred</th>\n",
              "      <th>English</th>\n",
              "      <th>French</th>\n",
              "      <th>Spanish</th>\n",
              "    </tr>\n",
              "    <tr>\n",
              "      <th>converted</th>\n",
              "      <th></th>\n",
              "      <th></th>\n",
              "      <th></th>\n",
              "    </tr>\n",
              "  </thead>\n",
              "  <tbody>\n",
              "    <tr>\n",
              "      <th>no</th>\n",
              "      <td>11</td>\n",
              "      <td>19</td>\n",
              "      <td>16</td>\n",
              "    </tr>\n",
              "    <tr>\n",
              "      <th>yes</th>\n",
              "      <td>21</td>\n",
              "      <td>15</td>\n",
              "      <td>18</td>\n",
              "    </tr>\n",
              "  </tbody>\n",
              "</table>\n",
              "</div>\n",
              "    <div class=\"colab-df-buttons\">\n",
              "\n",
              "  <div class=\"colab-df-container\">\n",
              "    <button class=\"colab-df-convert\" onclick=\"convertToInteractive('df-48eded8e-9591-4830-90d5-25080736fe73')\"\n",
              "            title=\"Convert this dataframe to an interactive table.\"\n",
              "            style=\"display:none;\">\n",
              "\n",
              "  <svg xmlns=\"http://www.w3.org/2000/svg\" height=\"24px\" viewBox=\"0 -960 960 960\">\n",
              "    <path d=\"M120-120v-720h720v720H120Zm60-500h600v-160H180v160Zm220 220h160v-160H400v160Zm0 220h160v-160H400v160ZM180-400h160v-160H180v160Zm440 0h160v-160H620v160ZM180-180h160v-160H180v160Zm440 0h160v-160H620v160Z\"/>\n",
              "  </svg>\n",
              "    </button>\n",
              "\n",
              "  <style>\n",
              "    .colab-df-container {\n",
              "      display:flex;\n",
              "      gap: 12px;\n",
              "    }\n",
              "\n",
              "    .colab-df-convert {\n",
              "      background-color: #E8F0FE;\n",
              "      border: none;\n",
              "      border-radius: 50%;\n",
              "      cursor: pointer;\n",
              "      display: none;\n",
              "      fill: #1967D2;\n",
              "      height: 32px;\n",
              "      padding: 0 0 0 0;\n",
              "      width: 32px;\n",
              "    }\n",
              "\n",
              "    .colab-df-convert:hover {\n",
              "      background-color: #E2EBFA;\n",
              "      box-shadow: 0px 1px 2px rgba(60, 64, 67, 0.3), 0px 1px 3px 1px rgba(60, 64, 67, 0.15);\n",
              "      fill: #174EA6;\n",
              "    }\n",
              "\n",
              "    .colab-df-buttons div {\n",
              "      margin-bottom: 4px;\n",
              "    }\n",
              "\n",
              "    [theme=dark] .colab-df-convert {\n",
              "      background-color: #3B4455;\n",
              "      fill: #D2E3FC;\n",
              "    }\n",
              "\n",
              "    [theme=dark] .colab-df-convert:hover {\n",
              "      background-color: #434B5C;\n",
              "      box-shadow: 0px 1px 3px 1px rgba(0, 0, 0, 0.15);\n",
              "      filter: drop-shadow(0px 1px 2px rgba(0, 0, 0, 0.3));\n",
              "      fill: #FFFFFF;\n",
              "    }\n",
              "  </style>\n",
              "\n",
              "    <script>\n",
              "      const buttonEl =\n",
              "        document.querySelector('#df-48eded8e-9591-4830-90d5-25080736fe73 button.colab-df-convert');\n",
              "      buttonEl.style.display =\n",
              "        google.colab.kernel.accessAllowed ? 'block' : 'none';\n",
              "\n",
              "      async function convertToInteractive(key) {\n",
              "        const element = document.querySelector('#df-48eded8e-9591-4830-90d5-25080736fe73');\n",
              "        const dataTable =\n",
              "          await google.colab.kernel.invokeFunction('convertToInteractive',\n",
              "                                                    [key], {});\n",
              "        if (!dataTable) return;\n",
              "\n",
              "        const docLinkHtml = 'Like what you see? Visit the ' +\n",
              "          '<a target=\"_blank\" href=https://colab.research.google.com/notebooks/data_table.ipynb>data table notebook</a>'\n",
              "          + ' to learn more about interactive tables.';\n",
              "        element.innerHTML = '';\n",
              "        dataTable['output_type'] = 'display_data';\n",
              "        await google.colab.output.renderOutput(dataTable, element);\n",
              "        const docLink = document.createElement('div');\n",
              "        docLink.innerHTML = docLinkHtml;\n",
              "        element.appendChild(docLink);\n",
              "      }\n",
              "    </script>\n",
              "  </div>\n",
              "\n",
              "\n",
              "<div id=\"df-2a89143e-dcfe-4d46-a910-67673fbbb9ff\">\n",
              "  <button class=\"colab-df-quickchart\" onclick=\"quickchart('df-2a89143e-dcfe-4d46-a910-67673fbbb9ff')\"\n",
              "            title=\"Suggest charts\"\n",
              "            style=\"display:none;\">\n",
              "\n",
              "<svg xmlns=\"http://www.w3.org/2000/svg\" height=\"24px\"viewBox=\"0 0 24 24\"\n",
              "     width=\"24px\">\n",
              "    <g>\n",
              "        <path d=\"M19 3H5c-1.1 0-2 .9-2 2v14c0 1.1.9 2 2 2h14c1.1 0 2-.9 2-2V5c0-1.1-.9-2-2-2zM9 17H7v-7h2v7zm4 0h-2V7h2v10zm4 0h-2v-4h2v4z\"/>\n",
              "    </g>\n",
              "</svg>\n",
              "  </button>\n",
              "\n",
              "<style>\n",
              "  .colab-df-quickchart {\n",
              "      --bg-color: #E8F0FE;\n",
              "      --fill-color: #1967D2;\n",
              "      --hover-bg-color: #E2EBFA;\n",
              "      --hover-fill-color: #174EA6;\n",
              "      --disabled-fill-color: #AAA;\n",
              "      --disabled-bg-color: #DDD;\n",
              "  }\n",
              "\n",
              "  [theme=dark] .colab-df-quickchart {\n",
              "      --bg-color: #3B4455;\n",
              "      --fill-color: #D2E3FC;\n",
              "      --hover-bg-color: #434B5C;\n",
              "      --hover-fill-color: #FFFFFF;\n",
              "      --disabled-bg-color: #3B4455;\n",
              "      --disabled-fill-color: #666;\n",
              "  }\n",
              "\n",
              "  .colab-df-quickchart {\n",
              "    background-color: var(--bg-color);\n",
              "    border: none;\n",
              "    border-radius: 50%;\n",
              "    cursor: pointer;\n",
              "    display: none;\n",
              "    fill: var(--fill-color);\n",
              "    height: 32px;\n",
              "    padding: 0;\n",
              "    width: 32px;\n",
              "  }\n",
              "\n",
              "  .colab-df-quickchart:hover {\n",
              "    background-color: var(--hover-bg-color);\n",
              "    box-shadow: 0 1px 2px rgba(60, 64, 67, 0.3), 0 1px 3px 1px rgba(60, 64, 67, 0.15);\n",
              "    fill: var(--button-hover-fill-color);\n",
              "  }\n",
              "\n",
              "  .colab-df-quickchart-complete:disabled,\n",
              "  .colab-df-quickchart-complete:disabled:hover {\n",
              "    background-color: var(--disabled-bg-color);\n",
              "    fill: var(--disabled-fill-color);\n",
              "    box-shadow: none;\n",
              "  }\n",
              "\n",
              "  .colab-df-spinner {\n",
              "    border: 2px solid var(--fill-color);\n",
              "    border-color: transparent;\n",
              "    border-bottom-color: var(--fill-color);\n",
              "    animation:\n",
              "      spin 1s steps(1) infinite;\n",
              "  }\n",
              "\n",
              "  @keyframes spin {\n",
              "    0% {\n",
              "      border-color: transparent;\n",
              "      border-bottom-color: var(--fill-color);\n",
              "      border-left-color: var(--fill-color);\n",
              "    }\n",
              "    20% {\n",
              "      border-color: transparent;\n",
              "      border-left-color: var(--fill-color);\n",
              "      border-top-color: var(--fill-color);\n",
              "    }\n",
              "    30% {\n",
              "      border-color: transparent;\n",
              "      border-left-color: var(--fill-color);\n",
              "      border-top-color: var(--fill-color);\n",
              "      border-right-color: var(--fill-color);\n",
              "    }\n",
              "    40% {\n",
              "      border-color: transparent;\n",
              "      border-right-color: var(--fill-color);\n",
              "      border-top-color: var(--fill-color);\n",
              "    }\n",
              "    60% {\n",
              "      border-color: transparent;\n",
              "      border-right-color: var(--fill-color);\n",
              "    }\n",
              "    80% {\n",
              "      border-color: transparent;\n",
              "      border-right-color: var(--fill-color);\n",
              "      border-bottom-color: var(--fill-color);\n",
              "    }\n",
              "    90% {\n",
              "      border-color: transparent;\n",
              "      border-bottom-color: var(--fill-color);\n",
              "    }\n",
              "  }\n",
              "</style>\n",
              "\n",
              "  <script>\n",
              "    async function quickchart(key) {\n",
              "      const quickchartButtonEl =\n",
              "        document.querySelector('#' + key + ' button');\n",
              "      quickchartButtonEl.disabled = true;  // To prevent multiple clicks.\n",
              "      quickchartButtonEl.classList.add('colab-df-spinner');\n",
              "      try {\n",
              "        const charts = await google.colab.kernel.invokeFunction(\n",
              "            'suggestCharts', [key], {});\n",
              "      } catch (error) {\n",
              "        console.error('Error during call to suggestCharts:', error);\n",
              "      }\n",
              "      quickchartButtonEl.classList.remove('colab-df-spinner');\n",
              "      quickchartButtonEl.classList.add('colab-df-quickchart-complete');\n",
              "    }\n",
              "    (() => {\n",
              "      let quickchartButtonEl =\n",
              "        document.querySelector('#df-2a89143e-dcfe-4d46-a910-67673fbbb9ff button');\n",
              "      quickchartButtonEl.style.display =\n",
              "        google.colab.kernel.accessAllowed ? 'block' : 'none';\n",
              "    })();\n",
              "  </script>\n",
              "</div>\n",
              "\n",
              "  <div id=\"id_7fa3282a-49ee-4382-bdb3-acfd6a44900b\">\n",
              "    <style>\n",
              "      .colab-df-generate {\n",
              "        background-color: #E8F0FE;\n",
              "        border: none;\n",
              "        border-radius: 50%;\n",
              "        cursor: pointer;\n",
              "        display: none;\n",
              "        fill: #1967D2;\n",
              "        height: 32px;\n",
              "        padding: 0 0 0 0;\n",
              "        width: 32px;\n",
              "      }\n",
              "\n",
              "      .colab-df-generate:hover {\n",
              "        background-color: #E2EBFA;\n",
              "        box-shadow: 0px 1px 2px rgba(60, 64, 67, 0.3), 0px 1px 3px 1px rgba(60, 64, 67, 0.15);\n",
              "        fill: #174EA6;\n",
              "      }\n",
              "\n",
              "      [theme=dark] .colab-df-generate {\n",
              "        background-color: #3B4455;\n",
              "        fill: #D2E3FC;\n",
              "      }\n",
              "\n",
              "      [theme=dark] .colab-df-generate:hover {\n",
              "        background-color: #434B5C;\n",
              "        box-shadow: 0px 1px 3px 1px rgba(0, 0, 0, 0.15);\n",
              "        filter: drop-shadow(0px 1px 2px rgba(0, 0, 0, 0.3));\n",
              "        fill: #FFFFFF;\n",
              "      }\n",
              "    </style>\n",
              "    <button class=\"colab-df-generate\" onclick=\"generateWithVariable('contingency_table')\"\n",
              "            title=\"Generate code using this dataframe.\"\n",
              "            style=\"display:none;\">\n",
              "\n",
              "  <svg xmlns=\"http://www.w3.org/2000/svg\" height=\"24px\"viewBox=\"0 0 24 24\"\n",
              "       width=\"24px\">\n",
              "    <path d=\"M7,19H8.4L18.45,9,17,7.55,7,17.6ZM5,21V16.75L18.45,3.32a2,2,0,0,1,2.83,0l1.4,1.43a1.91,1.91,0,0,1,.58,1.4,1.91,1.91,0,0,1-.58,1.4L9.25,21ZM18.45,9,17,7.55Zm-12,3A5.31,5.31,0,0,0,4.9,8.1,5.31,5.31,0,0,0,1,6.5,5.31,5.31,0,0,0,4.9,4.9,5.31,5.31,0,0,0,6.5,1,5.31,5.31,0,0,0,8.1,4.9,5.31,5.31,0,0,0,12,6.5,5.46,5.46,0,0,0,6.5,12Z\"/>\n",
              "  </svg>\n",
              "    </button>\n",
              "    <script>\n",
              "      (() => {\n",
              "      const buttonEl =\n",
              "        document.querySelector('#id_7fa3282a-49ee-4382-bdb3-acfd6a44900b button.colab-df-generate');\n",
              "      buttonEl.style.display =\n",
              "        google.colab.kernel.accessAllowed ? 'block' : 'none';\n",
              "\n",
              "      buttonEl.onclick = () => {\n",
              "        google.colab.notebook.generateWithVariable('contingency_table');\n",
              "      }\n",
              "      })();\n",
              "    </script>\n",
              "  </div>\n",
              "\n",
              "    </div>\n",
              "  </div>\n"
            ],
            "application/vnd.google.colaboratory.intrinsic+json": {
              "type": "dataframe",
              "variable_name": "contingency_table",
              "summary": "{\n  \"name\": \"contingency_table\",\n  \"rows\": 2,\n  \"fields\": [\n    {\n      \"column\": \"converted\",\n      \"properties\": {\n        \"dtype\": \"string\",\n        \"num_unique_values\": 2,\n        \"samples\": [\n          \"yes\",\n          \"no\"\n        ],\n        \"semantic_type\": \"\",\n        \"description\": \"\"\n      }\n    },\n    {\n      \"column\": \"English\",\n      \"properties\": {\n        \"dtype\": \"number\",\n        \"std\": 7,\n        \"min\": 11,\n        \"max\": 21,\n        \"num_unique_values\": 2,\n        \"samples\": [\n          21,\n          11\n        ],\n        \"semantic_type\": \"\",\n        \"description\": \"\"\n      }\n    },\n    {\n      \"column\": \"French\",\n      \"properties\": {\n        \"dtype\": \"number\",\n        \"std\": 2,\n        \"min\": 15,\n        \"max\": 19,\n        \"num_unique_values\": 2,\n        \"samples\": [\n          15,\n          19\n        ],\n        \"semantic_type\": \"\",\n        \"description\": \"\"\n      }\n    },\n    {\n      \"column\": \"Spanish\",\n      \"properties\": {\n        \"dtype\": \"number\",\n        \"std\": 1,\n        \"min\": 16,\n        \"max\": 18,\n        \"num_unique_values\": 2,\n        \"samples\": [\n          18,\n          16\n        ],\n        \"semantic_type\": \"\",\n        \"description\": \"\"\n      }\n    }\n  ]\n}"
            }
          },
          "metadata": {},
          "execution_count": 55
        }
      ]
    },
    {
      "cell_type": "markdown",
      "source": [
        "##Step 5: Calculate the p-value"
      ],
      "metadata": {
        "id": "_0NR7vDXzRpE"
      },
      "id": "_0NR7vDXzRpE"
    },
    {
      "cell_type": "code",
      "source": [
        "#Code to import the required function\n",
        "from scipy.stats import chi2_contingency\n",
        "\n",
        "# write the code to calculate the p-value\n",
        "chi2, p_value, dof, exp_freq = chi2_contingency(contingency_table)\n",
        "print('The p-value is', p_value)"
      ],
      "metadata": {
        "colab": {
          "base_uri": "https://localhost:8080/"
        },
        "id": "FeuvgVwQyOK0",
        "outputId": "28771205-6cd2-4e46-a0fa-d90f2ca3aaba"
      },
      "id": "FeuvgVwQyOK0",
      "execution_count": null,
      "outputs": [
        {
          "output_type": "stream",
          "name": "stdout",
          "text": [
            "The p-value is 0.21298887487543447\n"
          ]
        }
      ]
    },
    {
      "cell_type": "markdown",
      "source": [
        "##Step 6: Compare the p-value with  α"
      ],
      "metadata": {
        "id": "P24-YN1dzfB1"
      },
      "id": "P24-YN1dzfB1"
    },
    {
      "cell_type": "code",
      "source": [
        "# print the conclusion based on p-value\n",
        "if p_value < 0.05:\n",
        "    print(f'As the p-value {p_value} is less than the level of significance, we reject the null hypothesis.')\n",
        "else:\n",
        "    print(f'As the p-value {p_value} is greater than the level of significance, we fail to reject the null hypothesis.')"
      ],
      "metadata": {
        "colab": {
          "base_uri": "https://localhost:8080/"
        },
        "id": "oXFKNHJwzg_B",
        "outputId": "239a1972-6bb6-405e-8c4f-38991689bd9e"
      },
      "id": "oXFKNHJwzg_B",
      "execution_count": null,
      "outputs": [
        {
          "output_type": "stream",
          "name": "stdout",
          "text": [
            "As the p-value 0.21298887487543447 is greater than the level of significance, we fail to reject the null hypothesis.\n"
          ]
        }
      ]
    },
    {
      "cell_type": "markdown",
      "source": [
        "##Step 7: Draw inference"
      ],
      "metadata": {
        "id": "KGpdPVcrzq0R"
      },
      "id": "KGpdPVcrzq0R"
    },
    {
      "cell_type": "markdown",
      "source": [
        "####Since the p-value (~0.2129) is significantly greater than the level of significance (0.05), then we fail to reject the null hypothesis which implies that on the basis of statistical significance, the conversion rate and the preferred language are dependent which is also corroborated with the insight gleaned from the chart above."
      ],
      "metadata": {
        "id": "aqYWvxHPz00x"
      },
      "id": "aqYWvxHPz00x"
    },
    {
      "cell_type": "code",
      "source": [
        "# complete the code to calculate the mean time spent on the new page for different language users\n",
        "df_new.groupby(['language_preferred'])['time_spent_on_the_page'].mean()"
      ],
      "metadata": {
        "colab": {
          "base_uri": "https://localhost:8080/",
          "height": 209
        },
        "id": "B84zlHY75VPl",
        "outputId": "66174c13-769c-45d7-8f7b-af6d7f0856d5"
      },
      "id": "B84zlHY75VPl",
      "execution_count": null,
      "outputs": [
        {
          "output_type": "execute_result",
          "data": {
            "text/plain": [
              "language_preferred\n",
              "English    6.663750\n",
              "French     6.196471\n",
              "Spanish    5.835294\n",
              "Name: time_spent_on_the_page, dtype: float64"
            ],
            "text/html": [
              "<div>\n",
              "<style scoped>\n",
              "    .dataframe tbody tr th:only-of-type {\n",
              "        vertical-align: middle;\n",
              "    }\n",
              "\n",
              "    .dataframe tbody tr th {\n",
              "        vertical-align: top;\n",
              "    }\n",
              "\n",
              "    .dataframe thead th {\n",
              "        text-align: right;\n",
              "    }\n",
              "</style>\n",
              "<table border=\"1\" class=\"dataframe\">\n",
              "  <thead>\n",
              "    <tr style=\"text-align: right;\">\n",
              "      <th></th>\n",
              "      <th>time_spent_on_the_page</th>\n",
              "    </tr>\n",
              "    <tr>\n",
              "      <th>language_preferred</th>\n",
              "      <th></th>\n",
              "    </tr>\n",
              "  </thead>\n",
              "  <tbody>\n",
              "    <tr>\n",
              "      <th>English</th>\n",
              "      <td>6.663750</td>\n",
              "    </tr>\n",
              "    <tr>\n",
              "      <th>French</th>\n",
              "      <td>6.196471</td>\n",
              "    </tr>\n",
              "    <tr>\n",
              "      <th>Spanish</th>\n",
              "      <td>5.835294</td>\n",
              "    </tr>\n",
              "  </tbody>\n",
              "</table>\n",
              "</div><br><label><b>dtype:</b> float64</label>"
            ]
          },
          "metadata": {},
          "execution_count": 20
        }
      ]
    },
    {
      "cell_type": "code",
      "source": [
        "df.columns"
      ],
      "metadata": {
        "colab": {
          "base_uri": "https://localhost:8080/"
        },
        "id": "dB6OMmQr0eHf",
        "outputId": "37812352-9aa2-4ecb-c695-2bf113b53327"
      },
      "id": "dB6OMmQr0eHf",
      "execution_count": null,
      "outputs": [
        {
          "output_type": "execute_result",
          "data": {
            "text/plain": [
              "Index(['user_id', 'group', 'landing_page', 'time_spent_on_the_page',\n",
              "       'converted', 'language_preferred'],\n",
              "      dtype='object')"
            ]
          },
          "metadata": {},
          "execution_count": 7
        }
      ]
    },
    {
      "cell_type": "markdown",
      "metadata": {
        "id": "8d585a90"
      },
      "source": [
        "## 4. Is the time spent on the new page same for the different language users?"
      ],
      "id": "8d585a90"
    },
    {
      "cell_type": "code",
      "source": [
        "#Code to obtain a new dataframe consisting only of users served the new landing page\n",
        "df_new = df[df['landing_page']=='new']\n"
      ],
      "metadata": {
        "id": "RFYr-faT6ODR"
      },
      "id": "RFYr-faT6ODR",
      "execution_count": 5,
      "outputs": []
    },
    {
      "cell_type": "code",
      "source": [
        "# Plot to visually show the time spent by the users based on their preferred languages\n",
        "plt.figure(figsize=(8,8))\n",
        "sns.boxplot(x = 'language_preferred', y = 'time_spent_on_the_page', showmeans = True, data = df_new)\n",
        "plt.show()\n"
      ],
      "metadata": {
        "id": "CSYEaYIn7Jsb",
        "colab": {
          "base_uri": "https://localhost:8080/",
          "height": 696
        },
        "outputId": "57c92892-49ef-4f0c-96bf-f7170896222d"
      },
      "id": "CSYEaYIn7Jsb",
      "execution_count": 6,
      "outputs": [
        {
          "output_type": "display_data",
          "data": {
            "text/plain": [
              "<Figure size 800x800 with 1 Axes>"
            ],
            "image/png": "[encoded data removed]"
          },
          "metadata": {}
        }
      ]
    },
    {
      "cell_type": "code",
      "source": [
        "# code to calculate the mean time spent on the new page for different language users\n",
        "df_new.groupby(['language_preferred'])['time_spent_on_the_page'].mean()"
      ],
      "metadata": {
        "colab": {
          "base_uri": "https://localhost:8080/",
          "height": 209
        },
        "id": "jvq83v0Dx8Xq",
        "outputId": "c771a015-aaed-44ca-eadd-2c92dc50160a"
      },
      "id": "jvq83v0Dx8Xq",
      "execution_count": 7,
      "outputs": [
        {
          "output_type": "execute_result",
          "data": {
            "text/plain": [
              "language_preferred\n",
              "English    6.663750\n",
              "French     6.196471\n",
              "Spanish    5.835294\n",
              "Name: time_spent_on_the_page, dtype: float64"
            ],
            "text/html": [
              "<div>\n",
              "<style scoped>\n",
              "    .dataframe tbody tr th:only-of-type {\n",
              "        vertical-align: middle;\n",
              "    }\n",
              "\n",
              "    .dataframe tbody tr th {\n",
              "        vertical-align: top;\n",
              "    }\n",
              "\n",
              "    .dataframe thead th {\n",
              "        text-align: right;\n",
              "    }\n",
              "</style>\n",
              "<table border=\"1\" class=\"dataframe\">\n",
              "  <thead>\n",
              "    <tr style=\"text-align: right;\">\n",
              "      <th></th>\n",
              "      <th>time_spent_on_the_page</th>\n",
              "    </tr>\n",
              "    <tr>\n",
              "      <th>language_preferred</th>\n",
              "      <th></th>\n",
              "    </tr>\n",
              "  </thead>\n",
              "  <tbody>\n",
              "    <tr>\n",
              "      <th>English</th>\n",
              "      <td>6.663750</td>\n",
              "    </tr>\n",
              "    <tr>\n",
              "      <th>French</th>\n",
              "      <td>6.196471</td>\n",
              "    </tr>\n",
              "    <tr>\n",
              "      <th>Spanish</th>\n",
              "      <td>5.835294</td>\n",
              "    </tr>\n",
              "  </tbody>\n",
              "</table>\n",
              "</div><br><label><b>dtype:</b> float64</label>"
            ]
          },
          "metadata": {},
          "execution_count": 7
        }
      ]
    },
    {
      "cell_type": "markdown",
      "source": [
        "##Observation\n",
        "####The mean time spent by the users on the new landing page based on their preferred languages are not the same as shown on the chart and also the result of the codes. Users who preferred English language spent an average of 6.66 minutes which is the highest, closely followed by users who preferred French language with an average of 6.20 minutes. The lowest are users who preferred Spanish language with an average time of 5.84 minutes spent on the new landing page."
      ],
      "metadata": {
        "id": "ywR9RpLfyk63"
      },
      "id": "ywR9RpLfyk63"
    },
    {
      "cell_type": "markdown",
      "source": [
        "##Step 1: Define the null and alternate hypotheses"
      ],
      "metadata": {
        "id": "5P1QJ8bM6Q5a"
      },
      "id": "5P1QJ8bM6Q5a"
    },
    {
      "cell_type": "markdown",
      "source": [],
      "metadata": {
        "id": "ZKU9JpTczqte"
      },
      "id": "ZKU9JpTczqte"
    },
    {
      "cell_type": "code",
      "source": [],
      "metadata": {
        "id": "Gi6pE02W0uDM"
      },
      "id": "Gi6pE02W0uDM",
      "execution_count": null,
      "outputs": []
    },
    {
      "cell_type": "markdown",
      "metadata": {
        "id": "gz8FnmCvMio1"
      },
      "source": [
        "$H_0:$ At least one of the mean of the time spent by users are different for different language users\n",
        "\n",
        "$H_a:$ Mean of time spent are the same for the different language users.\n",
        "\n",
        "\n"
      ],
      "id": "gz8FnmCvMio1"
    },
    {
      "cell_type": "markdown",
      "source": [
        "##Step 2: Select Appropriate test"
      ],
      "metadata": {
        "id": "Yne_d9Lm1Rkt"
      },
      "id": "Yne_d9Lm1Rkt"
    },
    {
      "cell_type": "markdown",
      "source": [
        "####This is a problem involving three population means and the appropriate test to use is the **one-way ANOVA Test**"
      ],
      "metadata": {
        "id": "iXktQkkf1ZfL"
      },
      "id": "iXktQkkf1ZfL"
    },
    {
      "cell_type": "markdown",
      "source": [
        "##Step 3: Decide the significance level"
      ],
      "metadata": {
        "id": "A41Bk55R2ABh"
      },
      "id": "A41Bk55R2ABh"
    },
    {
      "cell_type": "markdown",
      "source": [
        "####According to the problem statement, we are to use the 5% level of significance, i.e. α = 0.05."
      ],
      "metadata": {
        "id": "6UvpGpLm2Er6"
      },
      "id": "6UvpGpLm2Er6"
    },
    {
      "cell_type": "markdown",
      "source": [
        "##Step 4: Collect and prepare data"
      ],
      "metadata": {
        "id": "nLI_kJ0T2aVd"
      },
      "id": "nLI_kJ0T2aVd"
    },
    {
      "cell_type": "code",
      "source": [
        "# create a subsetted data frame of the time spent on the new page by English language users\n",
        "time_spent_English = df_new[df_new['language_preferred']==\"English\"]['time_spent_on_the_page']\n",
        "# create subsetted data frames of the time spent on the new page by French users\n",
        "time_spent_French = df_new[df_new['language_preferred']=='French']['time_spent_on_the_page']\n",
        "# create subsetted data frames of the time spent on the new page by Spanish users\n",
        "time_spent_Spanish = df_new[df_new['language_preferred']=='Spanish']['time_spent_on_the_page']"
      ],
      "metadata": {
        "id": "1_CB9F1u2cW4"
      },
      "id": "1_CB9F1u2cW4",
      "execution_count": 8,
      "outputs": []
    },
    {
      "cell_type": "markdown",
      "source": [
        "##Step 4a: Test for Normality\n",
        "####: The Shapiro-Wilks Test will be used to test for the Normality.\n"
      ],
      "metadata": {
        "id": "fBJ1IFNj4GBD"
      },
      "id": "fBJ1IFNj4GBD"
    },
    {
      "cell_type": "markdown",
      "metadata": {
        "id": "_pFdvUuGC6qu"
      },
      "source": [
        "### Shapiro-Wilk’s test\n",
        "\n",
        "We will test the null hypothesis\n",
        "\n",
        ">$H_0:$ The time spent on the page follows a normal distribution against\n",
        "\n",
        "against the alternative hypothesis\n",
        "\n",
        ">$H_a:$ The time spent on the page does not follow a normal distribution"
      ],
      "id": "_pFdvUuGC6qu"
    },
    {
      "cell_type": "code",
      "source": [
        "# Assumption 1: Normality\n",
        "# import the required function\n",
        "from scipy import stats\n",
        "\n",
        "# find the p-value\n",
        "w, p_value = stats.shapiro(df_new['time_spent_on_the_page'])\n",
        "print('The p-value is', p_value)"
      ],
      "metadata": {
        "colab": {
          "base_uri": "https://localhost:8080/"
        },
        "id": "b8xAtYFB4_zm",
        "outputId": "36852b0d-027c-4927-ff00-34b5c3d2afa0"
      },
      "id": "b8xAtYFB4_zm",
      "execution_count": 9,
      "outputs": [
        {
          "output_type": "stream",
          "name": "stdout",
          "text": [
            "The p-value is 0.8040040364746845\n"
          ]
        }
      ]
    },
    {
      "cell_type": "markdown",
      "source": [
        "####Since p-value of the test is very large, we fail to reject the null hypothesis that the time spent by the different language users follows the normal distribution"
      ],
      "metadata": {
        "id": "m8I_QX9459q9"
      },
      "id": "m8I_QX9459q9"
    },
    {
      "cell_type": "markdown",
      "source": [
        "##Step 4b: Test for equality of variance\n",
        "####The Levene test will be used to test for the equality of variance\n",
        "####Levene’s test\n",
        "\n",
        "We will test the null hypothesis\n",
        "\n",
        ">$H_0$: All the population variances are equal\n",
        "\n",
        "against the alternative hypothesis\n",
        "\n",
        ">$H_a$: At least one variance is different from the rest"
      ],
      "metadata": {
        "id": "V90NH8bu6dSV"
      },
      "id": "V90NH8bu6dSV"
    },
    {
      "cell_type": "code",
      "source": [
        "#Assumption 2: Homogeneity of Variance\n",
        "#import the required function\n",
        "from scipy.stats import levene\n",
        "statistic, p_value = levene( df_new[df_new['language_preferred']==\"English\"]['time_spent_on_the_page'],\n",
        "                                   df_new[df_new['language_preferred']==\"French\"]['time_spent_on_the_page'],\n",
        "                                   df_new[df_new['language_preferred']==\"Spanish\"]['time_spent_on_the_page'])\n",
        "# find the p-value\n",
        "print('The p-value is', p_value)"
      ],
      "metadata": {
        "colab": {
          "base_uri": "https://localhost:8080/"
        },
        "id": "H2Jcb50K7SBI",
        "outputId": "1970085b-c766-4b81-a4b3-104fa59974fd"
      },
      "id": "H2Jcb50K7SBI",
      "execution_count": 11,
      "outputs": [
        {
          "output_type": "stream",
          "name": "stdout",
          "text": [
            "The p-value is 0.46711357711340173\n"
          ]
        }
      ]
    },
    {
      "cell_type": "markdown",
      "source": [
        "####Since the p-value is large, we fail to reject the null hypothesis of homogeneity or equality of variances.\n",
        "####It therefore means that the populations are normally distributed (Shapiro-Wilks test), There is homogeneity of variance (Levene's test) and the samples were randomly selected and are independent."
      ],
      "metadata": {
        "id": "X2jgEnBD8PMO"
      },
      "id": "X2jgEnBD8PMO"
    },
    {
      "cell_type": "markdown",
      "source": [
        "##Step 5: Calculate the p-value"
      ],
      "metadata": {
        "id": "jjfmac253KpB"
      },
      "id": "jjfmac253KpB"
    },
    {
      "cell_type": "code",
      "source": [
        "#code to import the required function\n",
        "from scipy.stats import f_oneway\n",
        "\n",
        "# write the code to calculate the p-value\n",
        "test_stat, p_value =f_oneway(time_spent_English, time_spent_French, time_spent_Spanish)\n",
        "print('The p-value is', p_value)"
      ],
      "metadata": {
        "colab": {
          "base_uri": "https://localhost:8080/"
        },
        "id": "KwR1vnGk3PnB",
        "outputId": "918bfb51-a1fa-4e2d-d4cb-196a4e90bb08"
      },
      "id": "KwR1vnGk3PnB",
      "execution_count": 12,
      "outputs": [
        {
          "output_type": "stream",
          "name": "stdout",
          "text": [
            "The p-value is 0.43204138694325955\n"
          ]
        }
      ]
    },
    {
      "cell_type": "markdown",
      "source": [
        "##Insight\n",
        "####Since the p-value is much greater than the significance level, we will fail to reject the null hypothesis. Hence, we do have enough statistical significance to conclude that at least one mean of the time spent by the users is different from the rest at 5% significance level."
      ],
      "metadata": {
        "id": "BoI2Tg1z90Gk"
      },
      "id": "BoI2Tg1z90Gk"
    },
    {
      "cell_type": "markdown",
      "metadata": {
        "id": "3acbc947"
      },
      "source": [
        "## Conclusion and Business Recommendations"
      ],
      "id": "3acbc947"
    },
    {
      "cell_type": "markdown",
      "metadata": {
        "id": "21fb1063"
      },
      "source": [
        "####- The average time spent by a user on a page is about 5.4 minutes and the time ranges from 0.19 minutes to 10.71 minutes. Since the mean and median time spent by a user are similar, it means that the time spent by users on a page will be normally distributed.\n",
        "####- The number of users that spends between 5 to 6 minutes on the page accounts for the highest number compare to other users.\n",
        "####From the number of users that visited the landing page,54% were converted to subscribers while 46% were not.\n",
        "####- There is a relationship between the number of users that were converted to subscribers and the corresponding time they spent on the page.Most of the summary statistics (i.e the minimum, 25% quartile, Median, 75% quartile and the maximum) as revealed by the boxplot for the 'Yes' group were higher than the 'No' group and therefore it is no surprising that the users in the 'Yes' group were converted to subscribers.\n",
        "####- It will be observed that the median time spent on the page by the users that have a preference for Spanish language and English language are almost the same whereas it is slightly lower for the users that prefer the French language\n",
        "####- Users spent more time in the new page compared to the old page. For instance, the median time spent by the users on the new page is greater than the median time spent by the users on the old page. Also, in total, the users spent about 311.16 minutes (about 5 hrs) on the new page as against 226.62 minutes (about 4 minutes) on the old page.\n",
        "####- We do have enough evidence to support the claim that the users spend more time on the new landing page than on the old or existing landing page based on 0.05 level of significance.\n",
        "####- It will be observed that 66% of the users who visits the new landing page gets converted and become subscribers as against 58% conversion of users who visited the old landing page.\n",
        "####- We do have enough statistical evidence to support the claim that the conversion rate for the users who visited the new landing page is greater than the converstion rate of the users who visited the old landing page.\n",
        "####- On the basis of statistical evidence, the conversion rate and the preferred language by the subscribers are dependent\n",
        "####- We do have enough statistical significance to conclude that at least one mean of the time spent by the users is different from the rest at 5% significance level.\n",
        "##Recommendations\n",
        "####- The new landing page should be adopted by Enews since it had more engagements and users converted to subscribers\n",
        "####- The sample size can be increased so that the sample statistics will closely resemble that of the population.\n",
        "####- User demographics such as age, country, sex etc can be included in future test so that targeted campaigns can be done."
      ],
      "id": "21fb1063"
    },
    {
      "cell_type": "markdown",
      "source": [
        "___"
      ],
      "metadata": {
        "id": "U0dAd4i0iCHo"
      },
      "id": "U0dAd4i0iCHo"
    }
  ]
}